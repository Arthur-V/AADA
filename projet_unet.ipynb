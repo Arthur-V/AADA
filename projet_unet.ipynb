{
  "nbformat": 4,
  "nbformat_minor": 0,
  "metadata": {
    "colab": {
      "name": "Projet Unet v2.ipynb",
      "provenance": [],
      "collapsed_sections": [],
      "toc_visible": true
    },
    "kernelspec": {
      "name": "python3",
      "display_name": "Python 3"
    },
    "accelerator": "GPU"
  },
  "cells": [
    {
      "cell_type": "code",
      "metadata": {
        "id": "RgnpSIchKvcU",
        "colab_type": "code",
        "outputId": "87a6af2b-283f-402d-ffa2-51b0eac07dfd",
        "colab": {
          "base_uri": "https://localhost:8080/",
          "height": 166
        }
      },
      "source": [
        "import cv2\n",
        "from google.colab.patches import cv2_imshow\n",
        "import os\n",
        "import tensorflow as tf\n",
        "import numpy as np\n",
        "from sklearn.model_selection import train_test_split\n",
        "import matplotlib.pyplot as plot\n",
        "from google.colab import drive\n",
        "from scipy import ndimage as ndi\n",
        "drive.mount('/content/drive')"
      ],
      "execution_count": 0,
      "outputs": [
        {
          "output_type": "display_data",
          "data": {
            "text/html": [
              "<p style=\"color: red;\">\n",
              "The default version of TensorFlow in Colab will soon switch to TensorFlow 2.x.<br>\n",
              "We recommend you <a href=\"https://www.tensorflow.org/guide/migrate\" target=\"_blank\">upgrade</a> now \n",
              "or ensure your notebook will continue to use TensorFlow 1.x via the <code>%tensorflow_version 1.x</code> magic:\n",
              "<a href=\"https://colab.research.google.com/notebooks/tensorflow_version.ipynb\" target=\"_blank\">more info</a>.</p>\n"
            ],
            "text/plain": [
              "<IPython.core.display.HTML object>"
            ]
          },
          "metadata": {
            "tags": []
          }
        },
        {
          "output_type": "stream",
          "text": [
            "Go to this URL in a browser: https://accounts.google.com/o/oauth2/auth?client_id=947318989803-6bn6qk8qdgf4n4g3pfee6491hc0brc4i.apps.googleusercontent.com&redirect_uri=urn%3aietf%3awg%3aoauth%3a2.0%3aoob&response_type=code&scope=email%20https%3a%2f%2fwww.googleapis.com%2fauth%2fdocs.test%20https%3a%2f%2fwww.googleapis.com%2fauth%2fdrive%20https%3a%2f%2fwww.googleapis.com%2fauth%2fdrive.photos.readonly%20https%3a%2f%2fwww.googleapis.com%2fauth%2fpeopleapi.readonly\n",
            "\n",
            "Enter your authorization code:\n",
            "··········\n",
            "Mounted at /content/drive\n"
          ],
          "name": "stdout"
        }
      ]
    },
    {
      "cell_type": "markdown",
      "metadata": {
        "id": "aHj84cByKzE2",
        "colab_type": "text"
      },
      "source": [
        "## Définition des paramètres du modèle"
      ]
    },
    {
      "cell_type": "code",
      "metadata": {
        "id": "Mr-eMILZKh9V",
        "colab_type": "code",
        "colab": {}
      },
      "source": [
        "width = 160\n",
        "height = 120\n",
        "\n",
        "taille_batch = 50\n",
        "nbr_entrainement = 100\n",
        "learning_rate = 1e-3\n",
        "labels = [ i for i in range(13) ]\n",
        "label_count = len(labels)\n",
        "\n",
        "# Utilisation du réseau stocké en mémoire\n",
        "images_path = './drive/My Drive/images_test'\n",
        "files = os.listdir(images_path)\n",
        "\n",
        "label_names = [\"Unlabeled\",\n",
        "               \"Building\",\n",
        "               \"Fence\",\n",
        "               \"Other\",\n",
        "               \"Pedestrian\",\n",
        "               \"Pole\",\n",
        "               \"Road line\",\n",
        "               \"Road\",\n",
        "               \"Sidewalk\",\n",
        "               \"Vegetation\",\n",
        "               \"Car\",\n",
        "               \"Wall\",\n",
        "               \"Traffic sign\" ]"
      ],
      "execution_count": 0,
      "outputs": []
    },
    {
      "cell_type": "markdown",
      "metadata": {
        "id": "ehjYfLaHK9aV",
        "colab_type": "text"
      },
      "source": [
        "## Fonctions\n"
      ]
    },
    {
      "cell_type": "code",
      "metadata": {
        "id": "BAgjE9QtLFMC",
        "colab_type": "code",
        "colab": {}
      },
      "source": [
        "# Fonctions utiles\n",
        "def normalisation(couche_prec, training=False):\n",
        "    result = tf.layers.batch_normalization(couche_prec, training=training)\n",
        "    return result\n",
        "\n",
        "def convolution(couche_prec, taille_noyau, nbr_conv,\n",
        "                stride=1, training=False, normalize=True):\n",
        "    w = tf.Variable(tf.random.truncated_normal(shape=(taille_noyau, taille_noyau, int(couche_prec.get_shape()[-1]), nbr_conv)))\n",
        "    b = np.zeros(nbr_conv)\n",
        "    result = tf.nn.conv2d(couche_prec, w, strides=[1, stride, stride, 1], padding='SAME')\n",
        "    result = result + b\n",
        "    if normalize:\n",
        "        result = normalisation(result, training=training)\n",
        "        result = tf.nn.relu(result)\n",
        "    return result\n",
        "\n",
        "def deconvolution(couche_prec, taille_noyau, nbr_conv, stride=1, training=False):\n",
        "    w = tf.Variable(tf.random.truncated_normal(shape=(taille_noyau, taille_noyau, nbr_conv, int(couche_prec.get_shape()[-1]))))\n",
        "    b = np.zeros(nbr_conv)\n",
        "    out_h = int(couche_prec.get_shape()[1])*stride\n",
        "    out_w = int(couche_prec.get_shape()[2])*stride\n",
        "    b_size = tf.shape(couche_prec)[0]\n",
        "    result = tf.nn.conv2d_transpose(couche_prec, w, output_shape=[b_size, out_h, out_w, nbr_conv],\n",
        "                                    strides=[1, stride, stride, 1], padding='SAME')\n",
        "    result = result + b\n",
        "    result = normalisation(result, training=training)\n",
        "    return result\n",
        "\n",
        "def max_pool(couche_prec, stride=2):\n",
        "    return tf.nn.max_pool(couche_prec, ksize = [1, stride, stride, 1],\n",
        "                          strides=[1, stride, stride, 1], padding='SAME')\n",
        "    \n",
        "def concat(t1, t2):\n",
        "    return tf.concat((t1, t2), axis=3)\n",
        "\n",
        "# Fonctions principales\n",
        "def defineNetwork():\n",
        "    print(\"------------------------\")\n",
        "    print(\"--- Defining network ---\")\n",
        "    print(\"------------------------\")\n",
        "\n",
        "    # Les commentaires après chaque ligne indiquent les\n",
        "    # dimensions du bloc dans le réseau de neurones\n",
        "    # dans le cas où 2 catégories peuvent être détectées\n",
        "\n",
        "    ph_images = tf.placeholder(shape=(None, height, width, 3), dtype=tf.float32, name='images') #(120, 160, 3)\n",
        "    ph_masks = tf.placeholder(shape=(None, height, width, label_count), dtype=tf.float32)       #(120, 160, 2)\n",
        "    ph_is_training = tf.placeholder_with_default(True, (), name='is_training')\n",
        "\n",
        "    couche_d0 = convolution(ph_images, 3, 16, stride=1, training=ph_is_training) #(120, 160, 16)\n",
        "    couche_d1 = convolution(couche_d0, 3, 16, stride=1, training=ph_is_training) #(120, 160, 16)\n",
        "    couche_d1_mp = max_pool(couche_d1) #(60, 80, 16)\n",
        "\n",
        "    couche_d2 = convolution(couche_d1_mp, 3, 32, stride=1, training=ph_is_training) #(60, 80, 32)\n",
        "    couche_d3 = convolution(couche_d2, 3, 32, stride=1, training=ph_is_training)    #(60, 80, 32)\n",
        "    couche_d3_mp = max_pool(couche_d3) #(30, 40, 32)\n",
        "\n",
        "    couche_d4 = convolution(couche_d3_mp, 3, 64, stride=1, training=ph_is_training) #(30, 40, 64)\n",
        "    couche_d5 = convolution(couche_d4, 3, 64, stride=1, training=ph_is_training)    #(30, 40, 64)\n",
        "    couche_d5_mp = max_pool(couche_d5) #(15, 20, 64)\n",
        "\n",
        "    couche_d6 = convolution(couche_d5_mp, 3, 128, stride=1, training=ph_is_training) #(15, 20, 128)\n",
        "    couche_d7 = convolution(couche_d6, 3, 128, stride=1, training=ph_is_training)    #(15, 20, 128)\n",
        "\n",
        "    couche_u7 = deconvolution(couche_d7, 3, 64, stride=2, training=ph_is_training) #(30, 40, 64)\n",
        "    couche_u7 = concat(couche_d5, couche_u7) #(30, 40, 128)\n",
        "\n",
        "    couche_u6 = convolution(couche_u7, 3, 64, stride=1, training=ph_is_training)   #(30, 40, 64)\n",
        "    couche_u5 = convolution(couche_u6, 3, 64, stride=1, training=ph_is_training)   #(30, 40, 64)\n",
        "    couche_u5 = deconvolution(couche_u5, 3, 64, stride=2, training=ph_is_training) #(60, 80, 64)\n",
        "    couche_u5 = concat(couche_d3, couche_u5) #(60, 80, 96)\n",
        "\n",
        "    couche_u4 = convolution(couche_u5, 3, 32, stride=1, training=ph_is_training)   #(60, 80, 32)\n",
        "    couche_u3 = convolution(couche_u4, 3, 32, stride=1, training=ph_is_training)   #(60, 80, 32)\n",
        "    couche_u3 = deconvolution(couche_u5, 3, 32, stride=2, training=ph_is_training) #(120, 160, 32)\n",
        "    couche_u3 = concat(couche_d1, couche_u3) #(120, 160, 48)\n",
        "\n",
        "    couche_u2 = convolution(couche_u3, 3, 16, stride=1, training=ph_is_training) #(120, 160, 16)\n",
        "    couche_u1 = convolution(couche_u2, 3, 16, stride=1, training=ph_is_training) #(120, 160, 16)\n",
        "    result = convolution(couche_u1, 1, label_count, stride=1, normalize=False)   #(120, 160, 2)\n",
        "\n",
        "    mask = tf.nn.sigmoid(result, name='sortie') #(120, 160, 2)\n",
        "\n",
        "    print(\"---------------------------\")\n",
        "    print(\"--- Defining network OK ---\")\n",
        "    print(\"---------------------------\")\n",
        "\n",
        "    return ph_images, ph_masks, ph_is_training, mask\n",
        "\n",
        "def defineMetrics(ph_masks, mask):\n",
        "    loss = tf.nn.softmax_cross_entropy_with_logits_v2(labels=ph_masks, logits=mask)\n",
        "    train = tf.train.AdamOptimizer(learning_rate).minimize(loss)\n",
        "    accuracy = tf.reduce_mean(tf.cast(tf.equal(tf.round(mask), ph_masks), tf.float32))\n",
        "    return loss, train, accuracy\n",
        "\n",
        "def dataConditioning(dir_img=\"CameraRGB/\", dir_mask=\"CameraSeg/\"):\n",
        "    tab_img = []\n",
        "    tab_mask = []\n",
        "\n",
        "    print(\"---------------------------\")\n",
        "    print(\"--- Image conditionning ---\")\n",
        "    print(\"---------------------------\")\n",
        "\n",
        "    image_count = 0\n",
        "    for dir in ['/content/drive/My Drive/dataset/lyft-udacity-challenge/resized/dataA/',\n",
        "                '/content/drive/My Drive/dataset/lyft-udacity-challenge/resized/dataB/']:\n",
        "        for file in os.listdir(dir+dir_img):\n",
        "            print(f\"Conditioning image {image_count}\")\n",
        "            image_count += 1\n",
        "            tab_img.append(cv2.imread(dir+dir_img+file)/255)\n",
        "            img_mask = cv2.imread(dir+dir_mask+file)[:,:,2]\n",
        "            img_mask_result = np.zeros(shape=(height, width, label_count), dtype=np.float32)\n",
        "\n",
        "            for i, label in enumerate(labels):\n",
        "                img_mask_result[:,:,i][img_mask==label]=1.\n",
        "            \n",
        "            tab_mask.append(img_mask_result)\n",
        "\n",
        "    # Création des tableaux d'images et de masks\n",
        "    tab_img = np.array(tab_img)\n",
        "    tab_mask = np.array(tab_mask)\n",
        "\n",
        "    # Ces tableaux sont splités en un set training et un set testing\n",
        "    train_images, test_images, train_labels, test_labels = train_test_split(tab_img, tab_mask, test_size=.1)\n",
        "\n",
        "    print(\"-------------------------------\")\n",
        "    print(\"--- Image conditionning  OK ---\")\n",
        "    print(\"-------------------------------\")\n",
        "\n",
        "    return train_images, test_images, train_labels, test_labels\n",
        "\n",
        "# Entrainement du modèle\n",
        "def trainOnce(s, taille_batch, train, train_images, train_labels):\n",
        "    for batch in np.arange(0, len(train_images), taille_batch):\n",
        "        s.run(train, feed_dict={\n",
        "            ph_images: train_images[batch:batch+taille_batch],\n",
        "            ph_masks: train_labels[batch:batch+taille_batch],\n",
        "            ph_is_training: True\n",
        "        })\n",
        "\n",
        "def computeAccuracy(s, taille_batch, accuracy, images, labels):\n",
        "    return np.mean(\n",
        "            [s.run(accuracy, feed_dict={\n",
        "                ph_images: images[batch:batch+taille_batch],\n",
        "                ph_masks: labels[batch:batch+taille_batch],\n",
        "                ph_is_training: True})\n",
        "            for batch in range(0, len(images), taille_batch) ]\n",
        "            )\n",
        "    \n",
        "def trainModel(train_images, test_images, train_labels, test_labels):\n",
        "    print(\"-----------------------\")\n",
        "    print(\"--- Training model  ---\")\n",
        "    print(\"-----------------------\")\n",
        "    saver = tf.train.Saver()\n",
        "\n",
        "    with tf.Session() as s:\n",
        "        s.run(tf.global_variables_initializer())\n",
        "\n",
        "        train_errors = []\n",
        "        test_errors = []\n",
        "        \n",
        "        for id_entrainement in range(nbr_entrainement):\n",
        "            print(f\"--- Entrainement {id_entrainement} ---\")\n",
        "            trainOnce(s, taille_batch, train, train_images, train_labels)\n",
        "            print(\"> entrainement OK\")\n",
        "\n",
        "            accuracy_train = computeAccuracy(s, taille_batch, accuracy,\n",
        "                                             train_images, train_labels)\n",
        "            accuracy_test = computeAccuracy(s, taille_batch, accuracy,\n",
        "                                            test_images, test_labels)\n",
        "            print(f\"> train: {accuracy_train}, test: {accuracy_test}\\n\")\n",
        "\n",
        "            train_errors.append(1 - accuracy_train)\n",
        "            test_errors.append(1 - accuracy_test)\n",
        "\n",
        "        saver.save(s, './mon_modele/modele')\n",
        "\n",
        "    print(\"-------------------------\")\n",
        "    print(\"--- Training model OK ---\")\n",
        "    print(\"-------------------------\")\n",
        "\n",
        "    return train_errors, test_errors\n",
        "\n",
        "def showPerformance(train_errors, test_errors, save=False, filename=\"performance\"):\n",
        "      plot.ylim(0, 1)\n",
        "      plot.grid()\n",
        "      plot.plot(train_errors, label=\"Train error\")\n",
        "      plot.plot(test_errors, label=\"Test error\")\n",
        "      plot.legend(loc=\"upper right\")\n",
        "      if save:\n",
        "          plot.savefig(filename, dpi=300)\n",
        "      plot.show()\n",
        "\n",
        "def runNetworkOnImage(s, filename):\n",
        "    image = cv2.imread(f\"{images_path}/{f}\")/255\n",
        "    image = cv2.resize(image, (width, 120))\n",
        "\n",
        "    img_res = s.run(sortie, feed_dict={images: [image], is_training:False})[0]\n",
        "\n",
        "    # Affiche l'image en couleurs\n",
        "    plot.imshow(image)\n",
        "    plot.show()\n",
        "\n",
        "    for i, label in enumerate(labels):\n",
        "        # Affiche l'image pour le label i\n",
        "        # seulement les pixels avec probabilité > 0.6 sont colorés\n",
        "\n",
        "        print(f\"--- Label : {label_names[i]} ---\")\n",
        "        \n",
        "        # img_label = ndi.binary_dilation(ndi.binary_erosion(img_res[:, :, label] > 0.6))*255\n",
        "        # Une erosion puis une dilation (pour eliminer les pixels isolés)\n",
        "        # ne donnent pas un rendu plus convainquant \n",
        "\n",
        "        img_label = (img_res[:, :, label] > 0.6)*255\n",
        "        cv2_imshow(img_label)"
      ],
      "execution_count": 0,
      "outputs": []
    },
    {
      "cell_type": "markdown",
      "metadata": {
        "id": "_ZaS4swJLI-8",
        "colab_type": "text"
      },
      "source": [
        "## Code principal"
      ]
    },
    {
      "cell_type": "code",
      "metadata": {
        "id": "66VC6NFIQrq7",
        "colab_type": "code",
        "outputId": "882c0e42-3f6b-424c-d5d4-d1cfe7dafeb5",
        "colab": {
          "base_uri": "https://localhost:8080/",
          "height": 1000
        }
      },
      "source": [
        "train_images, test_images, train_labels, test_labels = dataConditioning()\n",
        "ph_images, ph_masks, ph_is_training, mask = defineNetwork()\n",
        "loss, train, accuracy = defineMetrics(ph_masks, mask)"
      ],
      "execution_count": 0,
      "outputs": [
        {
          "output_type": "stream",
          "text": [
            "---------------------------\n",
            "--- Image conditionning ---\n",
            "---------------------------\n",
            "Conditioning image 0\n",
            "Conditioning image 1\n",
            "Conditioning image 2\n",
            "Conditioning image 3\n",
            "Conditioning image 4\n",
            "Conditioning image 5\n",
            "Conditioning image 6\n",
            "Conditioning image 7\n",
            "Conditioning image 8\n",
            "Conditioning image 9\n",
            "Conditioning image 10\n",
            "Conditioning image 11\n",
            "Conditioning image 12\n",
            "Conditioning image 13\n",
            "Conditioning image 14\n",
            "Conditioning image 15\n",
            "Conditioning image 16\n",
            "Conditioning image 17\n",
            "Conditioning image 18\n",
            "Conditioning image 19\n",
            "Conditioning image 20\n",
            "Conditioning image 21\n",
            "Conditioning image 22\n",
            "Conditioning image 23\n",
            "Conditioning image 24\n",
            "Conditioning image 25\n",
            "Conditioning image 26\n",
            "Conditioning image 27\n",
            "Conditioning image 28\n",
            "Conditioning image 29\n",
            "Conditioning image 30\n",
            "Conditioning image 31\n",
            "Conditioning image 32\n",
            "Conditioning image 33\n",
            "Conditioning image 34\n",
            "Conditioning image 35\n",
            "Conditioning image 36\n",
            "Conditioning image 37\n",
            "Conditioning image 38\n",
            "Conditioning image 39\n",
            "Conditioning image 40\n",
            "Conditioning image 41\n",
            "Conditioning image 42\n",
            "Conditioning image 43\n",
            "Conditioning image 44\n",
            "Conditioning image 45\n",
            "Conditioning image 46\n",
            "Conditioning image 47\n",
            "Conditioning image 48\n",
            "Conditioning image 49\n",
            "Conditioning image 50\n",
            "Conditioning image 51\n",
            "Conditioning image 52\n",
            "Conditioning image 53\n",
            "Conditioning image 54\n",
            "Conditioning image 55\n",
            "Conditioning image 56\n",
            "Conditioning image 57\n",
            "Conditioning image 58\n",
            "Conditioning image 59\n",
            "Conditioning image 60\n",
            "Conditioning image 61\n",
            "Conditioning image 62\n",
            "Conditioning image 63\n",
            "Conditioning image 64\n",
            "Conditioning image 65\n",
            "Conditioning image 66\n",
            "Conditioning image 67\n",
            "Conditioning image 68\n",
            "Conditioning image 69\n",
            "Conditioning image 70\n",
            "Conditioning image 71\n",
            "Conditioning image 72\n",
            "Conditioning image 73\n",
            "Conditioning image 74\n",
            "Conditioning image 75\n",
            "Conditioning image 76\n",
            "Conditioning image 77\n",
            "Conditioning image 78\n",
            "Conditioning image 79\n",
            "Conditioning image 80\n",
            "Conditioning image 81\n",
            "Conditioning image 82\n",
            "Conditioning image 83\n",
            "Conditioning image 84\n",
            "Conditioning image 85\n",
            "Conditioning image 86\n",
            "Conditioning image 87\n",
            "Conditioning image 88\n",
            "Conditioning image 89\n",
            "Conditioning image 90\n",
            "Conditioning image 91\n",
            "Conditioning image 92\n",
            "Conditioning image 93\n",
            "Conditioning image 94\n",
            "Conditioning image 95\n",
            "Conditioning image 96\n",
            "Conditioning image 97\n",
            "Conditioning image 98\n",
            "Conditioning image 99\n",
            "Conditioning image 100\n",
            "Conditioning image 101\n",
            "Conditioning image 102\n",
            "Conditioning image 103\n",
            "Conditioning image 104\n",
            "Conditioning image 105\n",
            "Conditioning image 106\n",
            "Conditioning image 107\n",
            "Conditioning image 108\n",
            "Conditioning image 109\n",
            "Conditioning image 110\n",
            "Conditioning image 111\n",
            "Conditioning image 112\n",
            "Conditioning image 113\n",
            "Conditioning image 114\n",
            "Conditioning image 115\n",
            "Conditioning image 116\n",
            "Conditioning image 117\n",
            "Conditioning image 118\n",
            "Conditioning image 119\n",
            "Conditioning image 120\n",
            "Conditioning image 121\n",
            "Conditioning image 122\n",
            "Conditioning image 123\n",
            "Conditioning image 124\n",
            "Conditioning image 125\n",
            "Conditioning image 126\n",
            "Conditioning image 127\n",
            "Conditioning image 128\n",
            "Conditioning image 129\n",
            "Conditioning image 130\n",
            "Conditioning image 131\n",
            "Conditioning image 132\n",
            "Conditioning image 133\n",
            "Conditioning image 134\n",
            "Conditioning image 135\n",
            "Conditioning image 136\n",
            "Conditioning image 137\n",
            "Conditioning image 138\n",
            "Conditioning image 139\n",
            "Conditioning image 140\n",
            "Conditioning image 141\n",
            "Conditioning image 142\n",
            "Conditioning image 143\n",
            "Conditioning image 144\n",
            "Conditioning image 145\n",
            "Conditioning image 146\n",
            "Conditioning image 147\n",
            "Conditioning image 148\n",
            "Conditioning image 149\n",
            "Conditioning image 150\n",
            "Conditioning image 151\n",
            "Conditioning image 152\n",
            "Conditioning image 153\n",
            "Conditioning image 154\n",
            "Conditioning image 155\n",
            "Conditioning image 156\n",
            "Conditioning image 157\n",
            "Conditioning image 158\n",
            "Conditioning image 159\n",
            "Conditioning image 160\n",
            "Conditioning image 161\n",
            "Conditioning image 162\n",
            "Conditioning image 163\n",
            "Conditioning image 164\n",
            "Conditioning image 165\n",
            "Conditioning image 166\n",
            "Conditioning image 167\n",
            "Conditioning image 168\n",
            "Conditioning image 169\n",
            "Conditioning image 170\n",
            "Conditioning image 171\n",
            "Conditioning image 172\n",
            "Conditioning image 173\n",
            "Conditioning image 174\n",
            "Conditioning image 175\n",
            "Conditioning image 176\n",
            "Conditioning image 177\n",
            "Conditioning image 178\n",
            "Conditioning image 179\n",
            "Conditioning image 180\n",
            "Conditioning image 181\n",
            "Conditioning image 182\n",
            "Conditioning image 183\n",
            "Conditioning image 184\n",
            "Conditioning image 185\n",
            "Conditioning image 186\n",
            "Conditioning image 187\n",
            "Conditioning image 188\n",
            "Conditioning image 189\n",
            "Conditioning image 190\n",
            "Conditioning image 191\n",
            "Conditioning image 192\n",
            "Conditioning image 193\n",
            "Conditioning image 194\n",
            "Conditioning image 195\n",
            "Conditioning image 196\n",
            "Conditioning image 197\n",
            "Conditioning image 198\n",
            "Conditioning image 199\n",
            "Conditioning image 200\n",
            "Conditioning image 201\n",
            "Conditioning image 202\n",
            "Conditioning image 203\n",
            "Conditioning image 204\n",
            "Conditioning image 205\n",
            "Conditioning image 206\n",
            "Conditioning image 207\n",
            "Conditioning image 208\n",
            "Conditioning image 209\n",
            "Conditioning image 210\n",
            "Conditioning image 211\n",
            "Conditioning image 212\n",
            "Conditioning image 213\n",
            "Conditioning image 214\n",
            "Conditioning image 215\n",
            "Conditioning image 216\n",
            "Conditioning image 217\n",
            "Conditioning image 218\n",
            "Conditioning image 219\n",
            "Conditioning image 220\n",
            "Conditioning image 221\n",
            "Conditioning image 222\n",
            "Conditioning image 223\n",
            "Conditioning image 224\n",
            "Conditioning image 225\n",
            "Conditioning image 226\n",
            "Conditioning image 227\n",
            "Conditioning image 228\n",
            "Conditioning image 229\n",
            "Conditioning image 230\n",
            "Conditioning image 231\n",
            "Conditioning image 232\n",
            "Conditioning image 233\n",
            "Conditioning image 234\n",
            "Conditioning image 235\n",
            "Conditioning image 236\n",
            "Conditioning image 237\n",
            "Conditioning image 238\n",
            "Conditioning image 239\n",
            "Conditioning image 240\n",
            "Conditioning image 241\n",
            "Conditioning image 242\n",
            "Conditioning image 243\n",
            "Conditioning image 244\n",
            "Conditioning image 245\n",
            "Conditioning image 246\n",
            "Conditioning image 247\n",
            "Conditioning image 248\n",
            "Conditioning image 249\n",
            "Conditioning image 250\n",
            "Conditioning image 251\n",
            "Conditioning image 252\n",
            "Conditioning image 253\n",
            "Conditioning image 254\n",
            "Conditioning image 255\n",
            "Conditioning image 256\n",
            "Conditioning image 257\n",
            "Conditioning image 258\n",
            "Conditioning image 259\n",
            "Conditioning image 260\n",
            "Conditioning image 261\n",
            "Conditioning image 262\n",
            "Conditioning image 263\n",
            "Conditioning image 264\n",
            "Conditioning image 265\n",
            "Conditioning image 266\n",
            "Conditioning image 267\n",
            "Conditioning image 268\n",
            "Conditioning image 269\n",
            "Conditioning image 270\n",
            "Conditioning image 271\n",
            "Conditioning image 272\n",
            "Conditioning image 273\n",
            "Conditioning image 274\n",
            "Conditioning image 275\n",
            "Conditioning image 276\n",
            "Conditioning image 277\n",
            "Conditioning image 278\n",
            "Conditioning image 279\n",
            "Conditioning image 280\n",
            "Conditioning image 281\n",
            "Conditioning image 282\n",
            "Conditioning image 283\n",
            "Conditioning image 284\n",
            "Conditioning image 285\n",
            "Conditioning image 286\n",
            "Conditioning image 287\n",
            "Conditioning image 288\n",
            "Conditioning image 289\n",
            "Conditioning image 290\n",
            "Conditioning image 291\n",
            "Conditioning image 292\n",
            "Conditioning image 293\n",
            "Conditioning image 294\n",
            "Conditioning image 295\n",
            "Conditioning image 296\n",
            "Conditioning image 297\n",
            "Conditioning image 298\n",
            "Conditioning image 299\n",
            "Conditioning image 300\n",
            "Conditioning image 301\n",
            "Conditioning image 302\n",
            "Conditioning image 303\n",
            "Conditioning image 304\n",
            "Conditioning image 305\n",
            "Conditioning image 306\n",
            "Conditioning image 307\n",
            "Conditioning image 308\n",
            "Conditioning image 309\n",
            "Conditioning image 310\n",
            "Conditioning image 311\n",
            "Conditioning image 312\n",
            "Conditioning image 313\n",
            "Conditioning image 314\n",
            "Conditioning image 315\n",
            "Conditioning image 316\n",
            "Conditioning image 317\n",
            "Conditioning image 318\n",
            "Conditioning image 319\n",
            "Conditioning image 320\n",
            "Conditioning image 321\n",
            "Conditioning image 322\n",
            "Conditioning image 323\n",
            "Conditioning image 324\n",
            "Conditioning image 325\n",
            "Conditioning image 326\n",
            "Conditioning image 327\n",
            "Conditioning image 328\n",
            "Conditioning image 329\n",
            "Conditioning image 330\n",
            "Conditioning image 331\n",
            "Conditioning image 332\n",
            "Conditioning image 333\n",
            "Conditioning image 334\n",
            "Conditioning image 335\n",
            "Conditioning image 336\n",
            "Conditioning image 337\n",
            "Conditioning image 338\n",
            "Conditioning image 339\n",
            "Conditioning image 340\n",
            "Conditioning image 341\n",
            "Conditioning image 342\n",
            "Conditioning image 343\n",
            "Conditioning image 344\n",
            "Conditioning image 345\n",
            "Conditioning image 346\n",
            "Conditioning image 347\n",
            "Conditioning image 348\n",
            "Conditioning image 349\n",
            "Conditioning image 350\n",
            "Conditioning image 351\n",
            "Conditioning image 352\n",
            "Conditioning image 353\n",
            "Conditioning image 354\n",
            "Conditioning image 355\n",
            "Conditioning image 356\n",
            "Conditioning image 357\n",
            "Conditioning image 358\n",
            "Conditioning image 359\n",
            "Conditioning image 360\n",
            "Conditioning image 361\n",
            "Conditioning image 362\n",
            "Conditioning image 363\n",
            "Conditioning image 364\n",
            "Conditioning image 365\n",
            "Conditioning image 366\n",
            "Conditioning image 367\n",
            "Conditioning image 368\n",
            "Conditioning image 369\n",
            "Conditioning image 370\n",
            "Conditioning image 371\n",
            "Conditioning image 372\n",
            "Conditioning image 373\n",
            "Conditioning image 374\n",
            "Conditioning image 375\n",
            "Conditioning image 376\n",
            "Conditioning image 377\n",
            "Conditioning image 378\n",
            "Conditioning image 379\n",
            "Conditioning image 380\n",
            "Conditioning image 381\n",
            "Conditioning image 382\n",
            "Conditioning image 383\n",
            "Conditioning image 384\n",
            "Conditioning image 385\n",
            "Conditioning image 386\n",
            "Conditioning image 387\n",
            "Conditioning image 388\n",
            "Conditioning image 389\n",
            "Conditioning image 390\n",
            "Conditioning image 391\n",
            "Conditioning image 392\n",
            "Conditioning image 393\n",
            "Conditioning image 394\n",
            "Conditioning image 395\n",
            "Conditioning image 396\n",
            "Conditioning image 397\n",
            "Conditioning image 398\n",
            "Conditioning image 399\n",
            "Conditioning image 400\n",
            "Conditioning image 401\n",
            "Conditioning image 402\n",
            "Conditioning image 403\n",
            "Conditioning image 404\n",
            "Conditioning image 405\n",
            "Conditioning image 406\n",
            "Conditioning image 407\n",
            "Conditioning image 408\n",
            "Conditioning image 409\n",
            "Conditioning image 410\n",
            "Conditioning image 411\n",
            "Conditioning image 412\n",
            "Conditioning image 413\n",
            "Conditioning image 414\n",
            "Conditioning image 415\n",
            "Conditioning image 416\n",
            "Conditioning image 417\n",
            "Conditioning image 418\n",
            "Conditioning image 419\n",
            "Conditioning image 420\n",
            "Conditioning image 421\n",
            "Conditioning image 422\n",
            "Conditioning image 423\n",
            "Conditioning image 424\n",
            "Conditioning image 425\n",
            "Conditioning image 426\n",
            "Conditioning image 427\n",
            "Conditioning image 428\n",
            "Conditioning image 429\n",
            "Conditioning image 430\n",
            "Conditioning image 431\n",
            "Conditioning image 432\n",
            "Conditioning image 433\n",
            "Conditioning image 434\n",
            "Conditioning image 435\n",
            "Conditioning image 436\n",
            "Conditioning image 437\n",
            "Conditioning image 438\n",
            "Conditioning image 439\n",
            "Conditioning image 440\n",
            "Conditioning image 441\n",
            "Conditioning image 442\n",
            "Conditioning image 443\n",
            "Conditioning image 444\n",
            "Conditioning image 445\n",
            "Conditioning image 446\n",
            "Conditioning image 447\n",
            "Conditioning image 448\n",
            "Conditioning image 449\n",
            "Conditioning image 450\n",
            "Conditioning image 451\n",
            "Conditioning image 452\n",
            "Conditioning image 453\n",
            "Conditioning image 454\n",
            "Conditioning image 455\n",
            "Conditioning image 456\n",
            "Conditioning image 457\n",
            "Conditioning image 458\n",
            "Conditioning image 459\n",
            "Conditioning image 460\n",
            "Conditioning image 461\n",
            "Conditioning image 462\n",
            "Conditioning image 463\n",
            "Conditioning image 464\n",
            "Conditioning image 465\n",
            "Conditioning image 466\n",
            "Conditioning image 467\n",
            "Conditioning image 468\n",
            "Conditioning image 469\n",
            "Conditioning image 470\n",
            "Conditioning image 471\n",
            "Conditioning image 472\n",
            "Conditioning image 473\n",
            "Conditioning image 474\n",
            "Conditioning image 475\n",
            "Conditioning image 476\n",
            "Conditioning image 477\n",
            "Conditioning image 478\n",
            "Conditioning image 479\n",
            "Conditioning image 480\n",
            "Conditioning image 481\n",
            "Conditioning image 482\n",
            "Conditioning image 483\n",
            "Conditioning image 484\n",
            "Conditioning image 485\n",
            "Conditioning image 486\n",
            "Conditioning image 487\n",
            "Conditioning image 488\n",
            "Conditioning image 489\n",
            "Conditioning image 490\n",
            "Conditioning image 491\n",
            "Conditioning image 492\n",
            "Conditioning image 493\n",
            "Conditioning image 494\n",
            "Conditioning image 495\n",
            "Conditioning image 496\n",
            "Conditioning image 497\n",
            "Conditioning image 498\n",
            "Conditioning image 499\n",
            "Conditioning image 500\n",
            "Conditioning image 501\n",
            "Conditioning image 502\n",
            "Conditioning image 503\n",
            "Conditioning image 504\n",
            "Conditioning image 505\n",
            "Conditioning image 506\n",
            "Conditioning image 507\n",
            "Conditioning image 508\n",
            "Conditioning image 509\n",
            "Conditioning image 510\n",
            "Conditioning image 511\n",
            "Conditioning image 512\n",
            "Conditioning image 513\n",
            "Conditioning image 514\n",
            "Conditioning image 515\n",
            "Conditioning image 516\n",
            "Conditioning image 517\n",
            "Conditioning image 518\n",
            "Conditioning image 519\n",
            "Conditioning image 520\n",
            "Conditioning image 521\n",
            "Conditioning image 522\n",
            "Conditioning image 523\n",
            "Conditioning image 524\n",
            "Conditioning image 525\n",
            "Conditioning image 526\n",
            "Conditioning image 527\n",
            "Conditioning image 528\n",
            "Conditioning image 529\n",
            "Conditioning image 530\n",
            "Conditioning image 531\n",
            "Conditioning image 532\n",
            "Conditioning image 533\n",
            "Conditioning image 534\n",
            "Conditioning image 535\n",
            "Conditioning image 536\n",
            "Conditioning image 537\n",
            "Conditioning image 538\n",
            "Conditioning image 539\n",
            "Conditioning image 540\n",
            "Conditioning image 541\n",
            "Conditioning image 542\n",
            "Conditioning image 543\n",
            "Conditioning image 544\n",
            "Conditioning image 545\n",
            "Conditioning image 546\n",
            "Conditioning image 547\n",
            "Conditioning image 548\n",
            "Conditioning image 549\n",
            "Conditioning image 550\n",
            "Conditioning image 551\n",
            "Conditioning image 552\n",
            "Conditioning image 553\n",
            "Conditioning image 554\n",
            "Conditioning image 555\n",
            "Conditioning image 556\n",
            "Conditioning image 557\n",
            "Conditioning image 558\n",
            "Conditioning image 559\n",
            "Conditioning image 560\n",
            "Conditioning image 561\n",
            "Conditioning image 562\n",
            "Conditioning image 563\n",
            "Conditioning image 564\n",
            "Conditioning image 565\n",
            "Conditioning image 566\n",
            "Conditioning image 567\n",
            "Conditioning image 568\n",
            "Conditioning image 569\n",
            "Conditioning image 570\n",
            "Conditioning image 571\n",
            "Conditioning image 572\n",
            "Conditioning image 573\n",
            "Conditioning image 574\n",
            "Conditioning image 575\n",
            "Conditioning image 576\n",
            "Conditioning image 577\n",
            "Conditioning image 578\n",
            "Conditioning image 579\n",
            "Conditioning image 580\n",
            "Conditioning image 581\n",
            "Conditioning image 582\n",
            "Conditioning image 583\n",
            "Conditioning image 584\n",
            "Conditioning image 585\n",
            "Conditioning image 586\n",
            "Conditioning image 587\n",
            "Conditioning image 588\n",
            "Conditioning image 589\n",
            "Conditioning image 590\n",
            "Conditioning image 591\n",
            "Conditioning image 592\n",
            "Conditioning image 593\n",
            "Conditioning image 594\n",
            "Conditioning image 595\n",
            "Conditioning image 596\n",
            "Conditioning image 597\n",
            "Conditioning image 598\n",
            "Conditioning image 599\n",
            "Conditioning image 600\n",
            "Conditioning image 601\n",
            "Conditioning image 602\n",
            "Conditioning image 603\n",
            "Conditioning image 604\n",
            "Conditioning image 605\n",
            "Conditioning image 606\n",
            "Conditioning image 607\n",
            "Conditioning image 608\n",
            "Conditioning image 609\n",
            "Conditioning image 610\n",
            "Conditioning image 611\n",
            "Conditioning image 612\n",
            "Conditioning image 613\n",
            "Conditioning image 614\n",
            "Conditioning image 615\n",
            "Conditioning image 616\n",
            "Conditioning image 617\n",
            "Conditioning image 618\n",
            "Conditioning image 619\n",
            "Conditioning image 620\n",
            "Conditioning image 621\n",
            "Conditioning image 622\n",
            "Conditioning image 623\n",
            "Conditioning image 624\n",
            "Conditioning image 625\n",
            "Conditioning image 626\n",
            "Conditioning image 627\n",
            "Conditioning image 628\n",
            "Conditioning image 629\n",
            "Conditioning image 630\n",
            "Conditioning image 631\n",
            "Conditioning image 632\n",
            "Conditioning image 633\n",
            "Conditioning image 634\n",
            "Conditioning image 635\n",
            "Conditioning image 636\n",
            "Conditioning image 637\n",
            "Conditioning image 638\n",
            "Conditioning image 639\n",
            "Conditioning image 640\n",
            "Conditioning image 641\n",
            "Conditioning image 642\n",
            "Conditioning image 643\n",
            "Conditioning image 644\n",
            "Conditioning image 645\n",
            "Conditioning image 646\n",
            "Conditioning image 647\n",
            "Conditioning image 648\n",
            "Conditioning image 649\n",
            "Conditioning image 650\n",
            "Conditioning image 651\n",
            "Conditioning image 652\n",
            "Conditioning image 653\n",
            "Conditioning image 654\n",
            "Conditioning image 655\n",
            "Conditioning image 656\n",
            "Conditioning image 657\n",
            "Conditioning image 658\n",
            "Conditioning image 659\n",
            "Conditioning image 660\n",
            "Conditioning image 661\n",
            "Conditioning image 662\n",
            "Conditioning image 663\n",
            "Conditioning image 664\n",
            "Conditioning image 665\n",
            "Conditioning image 666\n",
            "Conditioning image 667\n",
            "Conditioning image 668\n",
            "Conditioning image 669\n",
            "Conditioning image 670\n",
            "Conditioning image 671\n",
            "Conditioning image 672\n",
            "Conditioning image 673\n",
            "Conditioning image 674\n",
            "Conditioning image 675\n",
            "Conditioning image 676\n",
            "Conditioning image 677\n",
            "Conditioning image 678\n",
            "Conditioning image 679\n",
            "Conditioning image 680\n",
            "Conditioning image 681\n",
            "Conditioning image 682\n",
            "Conditioning image 683\n",
            "Conditioning image 684\n",
            "Conditioning image 685\n",
            "Conditioning image 686\n",
            "Conditioning image 687\n",
            "Conditioning image 688\n",
            "Conditioning image 689\n",
            "Conditioning image 690\n",
            "Conditioning image 691\n",
            "Conditioning image 692\n",
            "Conditioning image 693\n",
            "Conditioning image 694\n",
            "Conditioning image 695\n",
            "Conditioning image 696\n",
            "Conditioning image 697\n",
            "Conditioning image 698\n",
            "Conditioning image 699\n",
            "Conditioning image 700\n",
            "Conditioning image 701\n",
            "Conditioning image 702\n",
            "Conditioning image 703\n",
            "Conditioning image 704\n",
            "Conditioning image 705\n",
            "Conditioning image 706\n",
            "Conditioning image 707\n",
            "Conditioning image 708\n",
            "Conditioning image 709\n",
            "Conditioning image 710\n",
            "Conditioning image 711\n",
            "Conditioning image 712\n",
            "Conditioning image 713\n",
            "Conditioning image 714\n",
            "Conditioning image 715\n",
            "Conditioning image 716\n",
            "Conditioning image 717\n",
            "Conditioning image 718\n",
            "Conditioning image 719\n",
            "Conditioning image 720\n",
            "Conditioning image 721\n",
            "Conditioning image 722\n",
            "Conditioning image 723\n",
            "Conditioning image 724\n",
            "Conditioning image 725\n",
            "Conditioning image 726\n",
            "Conditioning image 727\n",
            "Conditioning image 728\n",
            "Conditioning image 729\n",
            "Conditioning image 730\n",
            "Conditioning image 731\n",
            "Conditioning image 732\n",
            "Conditioning image 733\n",
            "Conditioning image 734\n",
            "Conditioning image 735\n",
            "Conditioning image 736\n",
            "Conditioning image 737\n",
            "Conditioning image 738\n",
            "Conditioning image 739\n",
            "Conditioning image 740\n",
            "Conditioning image 741\n",
            "Conditioning image 742\n",
            "Conditioning image 743\n",
            "Conditioning image 744\n",
            "Conditioning image 745\n",
            "Conditioning image 746\n",
            "Conditioning image 747\n",
            "Conditioning image 748\n",
            "Conditioning image 749\n",
            "Conditioning image 750\n",
            "Conditioning image 751\n",
            "Conditioning image 752\n",
            "Conditioning image 753\n",
            "Conditioning image 754\n",
            "Conditioning image 755\n",
            "Conditioning image 756\n",
            "Conditioning image 757\n",
            "Conditioning image 758\n",
            "Conditioning image 759\n",
            "Conditioning image 760\n",
            "Conditioning image 761\n",
            "Conditioning image 762\n",
            "Conditioning image 763\n",
            "Conditioning image 764\n",
            "Conditioning image 765\n",
            "Conditioning image 766\n",
            "Conditioning image 767\n",
            "Conditioning image 768\n",
            "Conditioning image 769\n",
            "Conditioning image 770\n",
            "Conditioning image 771\n",
            "Conditioning image 772\n",
            "Conditioning image 773\n",
            "Conditioning image 774\n",
            "Conditioning image 775\n",
            "Conditioning image 776\n",
            "Conditioning image 777\n",
            "Conditioning image 778\n",
            "Conditioning image 779\n",
            "Conditioning image 780\n",
            "Conditioning image 781\n",
            "Conditioning image 782\n",
            "Conditioning image 783\n",
            "Conditioning image 784\n",
            "Conditioning image 785\n",
            "Conditioning image 786\n",
            "Conditioning image 787\n",
            "Conditioning image 788\n",
            "Conditioning image 789\n",
            "Conditioning image 790\n",
            "Conditioning image 791\n",
            "Conditioning image 792\n",
            "Conditioning image 793\n",
            "Conditioning image 794\n",
            "Conditioning image 795\n",
            "Conditioning image 796\n",
            "Conditioning image 797\n",
            "Conditioning image 798\n",
            "Conditioning image 799\n",
            "Conditioning image 800\n",
            "Conditioning image 801\n",
            "Conditioning image 802\n",
            "Conditioning image 803\n",
            "Conditioning image 804\n",
            "Conditioning image 805\n",
            "Conditioning image 806\n",
            "Conditioning image 807\n",
            "Conditioning image 808\n",
            "Conditioning image 809\n",
            "Conditioning image 810\n",
            "Conditioning image 811\n",
            "Conditioning image 812\n",
            "Conditioning image 813\n",
            "Conditioning image 814\n",
            "Conditioning image 815\n",
            "Conditioning image 816\n",
            "Conditioning image 817\n",
            "Conditioning image 818\n",
            "Conditioning image 819\n",
            "Conditioning image 820\n",
            "Conditioning image 821\n",
            "Conditioning image 822\n",
            "Conditioning image 823\n",
            "Conditioning image 824\n",
            "Conditioning image 825\n",
            "Conditioning image 826\n",
            "Conditioning image 827\n",
            "Conditioning image 828\n",
            "Conditioning image 829\n",
            "Conditioning image 830\n",
            "Conditioning image 831\n",
            "Conditioning image 832\n",
            "Conditioning image 833\n",
            "Conditioning image 834\n",
            "Conditioning image 835\n",
            "Conditioning image 836\n",
            "Conditioning image 837\n",
            "Conditioning image 838\n",
            "Conditioning image 839\n",
            "Conditioning image 840\n",
            "Conditioning image 841\n",
            "Conditioning image 842\n",
            "Conditioning image 843\n",
            "Conditioning image 844\n",
            "Conditioning image 845\n",
            "Conditioning image 846\n",
            "Conditioning image 847\n",
            "Conditioning image 848\n",
            "Conditioning image 849\n",
            "Conditioning image 850\n",
            "Conditioning image 851\n",
            "Conditioning image 852\n",
            "Conditioning image 853\n",
            "Conditioning image 854\n",
            "Conditioning image 855\n",
            "Conditioning image 856\n",
            "Conditioning image 857\n",
            "Conditioning image 858\n",
            "Conditioning image 859\n",
            "Conditioning image 860\n",
            "Conditioning image 861\n",
            "Conditioning image 862\n",
            "Conditioning image 863\n",
            "Conditioning image 864\n",
            "Conditioning image 865\n",
            "Conditioning image 866\n",
            "Conditioning image 867\n",
            "Conditioning image 868\n",
            "Conditioning image 869\n",
            "Conditioning image 870\n",
            "Conditioning image 871\n",
            "Conditioning image 872\n",
            "Conditioning image 873\n",
            "Conditioning image 874\n",
            "Conditioning image 875\n",
            "Conditioning image 876\n",
            "Conditioning image 877\n",
            "Conditioning image 878\n",
            "Conditioning image 879\n",
            "Conditioning image 880\n",
            "Conditioning image 881\n",
            "Conditioning image 882\n",
            "Conditioning image 883\n",
            "Conditioning image 884\n",
            "Conditioning image 885\n",
            "Conditioning image 886\n",
            "Conditioning image 887\n",
            "Conditioning image 888\n",
            "Conditioning image 889\n",
            "Conditioning image 890\n",
            "Conditioning image 891\n",
            "Conditioning image 892\n",
            "Conditioning image 893\n",
            "Conditioning image 894\n",
            "Conditioning image 895\n",
            "Conditioning image 896\n",
            "Conditioning image 897\n",
            "Conditioning image 898\n",
            "Conditioning image 899\n",
            "Conditioning image 900\n",
            "Conditioning image 901\n",
            "Conditioning image 902\n",
            "Conditioning image 903\n",
            "Conditioning image 904\n",
            "Conditioning image 905\n",
            "Conditioning image 906\n",
            "Conditioning image 907\n",
            "Conditioning image 908\n",
            "Conditioning image 909\n",
            "Conditioning image 910\n",
            "Conditioning image 911\n",
            "Conditioning image 912\n",
            "Conditioning image 913\n",
            "Conditioning image 914\n",
            "Conditioning image 915\n",
            "Conditioning image 916\n",
            "Conditioning image 917\n",
            "Conditioning image 918\n",
            "Conditioning image 919\n",
            "Conditioning image 920\n",
            "Conditioning image 921\n",
            "Conditioning image 922\n",
            "Conditioning image 923\n",
            "Conditioning image 924\n",
            "Conditioning image 925\n",
            "Conditioning image 926\n",
            "Conditioning image 927\n",
            "Conditioning image 928\n",
            "Conditioning image 929\n",
            "Conditioning image 930\n",
            "Conditioning image 931\n",
            "Conditioning image 932\n",
            "Conditioning image 933\n",
            "Conditioning image 934\n",
            "Conditioning image 935\n",
            "Conditioning image 936\n",
            "Conditioning image 937\n",
            "Conditioning image 938\n",
            "Conditioning image 939\n",
            "Conditioning image 940\n",
            "Conditioning image 941\n",
            "Conditioning image 942\n",
            "Conditioning image 943\n",
            "Conditioning image 944\n",
            "Conditioning image 945\n",
            "Conditioning image 946\n",
            "Conditioning image 947\n",
            "Conditioning image 948\n",
            "Conditioning image 949\n",
            "Conditioning image 950\n",
            "Conditioning image 951\n",
            "Conditioning image 952\n",
            "Conditioning image 953\n",
            "Conditioning image 954\n",
            "Conditioning image 955\n",
            "Conditioning image 956\n",
            "Conditioning image 957\n",
            "Conditioning image 958\n",
            "Conditioning image 959\n",
            "Conditioning image 960\n",
            "Conditioning image 961\n",
            "Conditioning image 962\n",
            "Conditioning image 963\n",
            "Conditioning image 964\n",
            "Conditioning image 965\n",
            "Conditioning image 966\n",
            "Conditioning image 967\n",
            "Conditioning image 968\n",
            "Conditioning image 969\n",
            "Conditioning image 970\n",
            "Conditioning image 971\n",
            "Conditioning image 972\n",
            "Conditioning image 973\n",
            "Conditioning image 974\n",
            "Conditioning image 975\n",
            "Conditioning image 976\n",
            "Conditioning image 977\n",
            "Conditioning image 978\n",
            "Conditioning image 979\n",
            "Conditioning image 980\n",
            "Conditioning image 981\n",
            "Conditioning image 982\n",
            "Conditioning image 983\n",
            "Conditioning image 984\n",
            "Conditioning image 985\n",
            "Conditioning image 986\n",
            "Conditioning image 987\n",
            "Conditioning image 988\n",
            "Conditioning image 989\n",
            "Conditioning image 990\n",
            "Conditioning image 991\n",
            "Conditioning image 992\n",
            "Conditioning image 993\n",
            "Conditioning image 994\n",
            "Conditioning image 995\n",
            "Conditioning image 996\n",
            "Conditioning image 997\n",
            "Conditioning image 998\n",
            "Conditioning image 999\n",
            "Conditioning image 1000\n",
            "Conditioning image 1001\n",
            "Conditioning image 1002\n",
            "Conditioning image 1003\n",
            "Conditioning image 1004\n",
            "Conditioning image 1005\n",
            "Conditioning image 1006\n",
            "Conditioning image 1007\n",
            "Conditioning image 1008\n",
            "Conditioning image 1009\n",
            "Conditioning image 1010\n",
            "Conditioning image 1011\n",
            "Conditioning image 1012\n",
            "Conditioning image 1013\n",
            "Conditioning image 1014\n",
            "Conditioning image 1015\n",
            "Conditioning image 1016\n",
            "Conditioning image 1017\n",
            "Conditioning image 1018\n",
            "Conditioning image 1019\n",
            "Conditioning image 1020\n",
            "Conditioning image 1021\n",
            "Conditioning image 1022\n",
            "Conditioning image 1023\n",
            "Conditioning image 1024\n",
            "Conditioning image 1025\n",
            "Conditioning image 1026\n",
            "Conditioning image 1027\n",
            "Conditioning image 1028\n",
            "Conditioning image 1029\n",
            "Conditioning image 1030\n",
            "Conditioning image 1031\n",
            "Conditioning image 1032\n",
            "Conditioning image 1033\n",
            "Conditioning image 1034\n",
            "Conditioning image 1035\n",
            "Conditioning image 1036\n",
            "Conditioning image 1037\n",
            "Conditioning image 1038\n",
            "Conditioning image 1039\n",
            "Conditioning image 1040\n",
            "Conditioning image 1041\n",
            "Conditioning image 1042\n",
            "Conditioning image 1043\n",
            "Conditioning image 1044\n",
            "Conditioning image 1045\n",
            "Conditioning image 1046\n",
            "Conditioning image 1047\n",
            "Conditioning image 1048\n",
            "Conditioning image 1049\n",
            "Conditioning image 1050\n",
            "Conditioning image 1051\n",
            "Conditioning image 1052\n",
            "Conditioning image 1053\n",
            "Conditioning image 1054\n",
            "Conditioning image 1055\n",
            "Conditioning image 1056\n",
            "Conditioning image 1057\n",
            "Conditioning image 1058\n",
            "Conditioning image 1059\n",
            "Conditioning image 1060\n",
            "Conditioning image 1061\n",
            "Conditioning image 1062\n",
            "Conditioning image 1063\n",
            "Conditioning image 1064\n",
            "Conditioning image 1065\n",
            "Conditioning image 1066\n",
            "Conditioning image 1067\n",
            "Conditioning image 1068\n",
            "Conditioning image 1069\n",
            "Conditioning image 1070\n",
            "Conditioning image 1071\n",
            "Conditioning image 1072\n",
            "Conditioning image 1073\n",
            "Conditioning image 1074\n",
            "Conditioning image 1075\n",
            "Conditioning image 1076\n",
            "Conditioning image 1077\n",
            "Conditioning image 1078\n",
            "Conditioning image 1079\n",
            "Conditioning image 1080\n",
            "Conditioning image 1081\n",
            "Conditioning image 1082\n",
            "Conditioning image 1083\n",
            "Conditioning image 1084\n",
            "Conditioning image 1085\n",
            "Conditioning image 1086\n",
            "Conditioning image 1087\n",
            "Conditioning image 1088\n",
            "Conditioning image 1089\n",
            "Conditioning image 1090\n",
            "Conditioning image 1091\n",
            "Conditioning image 1092\n",
            "Conditioning image 1093\n",
            "Conditioning image 1094\n",
            "Conditioning image 1095\n",
            "Conditioning image 1096\n",
            "Conditioning image 1097\n",
            "Conditioning image 1098\n",
            "Conditioning image 1099\n",
            "Conditioning image 1100\n",
            "Conditioning image 1101\n",
            "Conditioning image 1102\n",
            "Conditioning image 1103\n",
            "Conditioning image 1104\n",
            "Conditioning image 1105\n",
            "Conditioning image 1106\n",
            "Conditioning image 1107\n",
            "Conditioning image 1108\n",
            "Conditioning image 1109\n",
            "Conditioning image 1110\n",
            "Conditioning image 1111\n",
            "Conditioning image 1112\n",
            "Conditioning image 1113\n",
            "Conditioning image 1114\n",
            "Conditioning image 1115\n",
            "Conditioning image 1116\n",
            "Conditioning image 1117\n",
            "Conditioning image 1118\n",
            "Conditioning image 1119\n",
            "Conditioning image 1120\n",
            "Conditioning image 1121\n",
            "Conditioning image 1122\n",
            "Conditioning image 1123\n",
            "Conditioning image 1124\n",
            "Conditioning image 1125\n",
            "Conditioning image 1126\n",
            "Conditioning image 1127\n",
            "Conditioning image 1128\n",
            "Conditioning image 1129\n",
            "Conditioning image 1130\n",
            "Conditioning image 1131\n",
            "Conditioning image 1132\n",
            "Conditioning image 1133\n",
            "Conditioning image 1134\n",
            "Conditioning image 1135\n",
            "Conditioning image 1136\n",
            "Conditioning image 1137\n",
            "Conditioning image 1138\n",
            "Conditioning image 1139\n",
            "Conditioning image 1140\n",
            "Conditioning image 1141\n",
            "Conditioning image 1142\n",
            "Conditioning image 1143\n",
            "Conditioning image 1144\n",
            "Conditioning image 1145\n",
            "Conditioning image 1146\n",
            "Conditioning image 1147\n",
            "Conditioning image 1148\n",
            "Conditioning image 1149\n",
            "Conditioning image 1150\n",
            "Conditioning image 1151\n",
            "Conditioning image 1152\n",
            "Conditioning image 1153\n",
            "Conditioning image 1154\n",
            "Conditioning image 1155\n",
            "Conditioning image 1156\n",
            "Conditioning image 1157\n",
            "Conditioning image 1158\n",
            "Conditioning image 1159\n",
            "Conditioning image 1160\n",
            "Conditioning image 1161\n",
            "Conditioning image 1162\n",
            "Conditioning image 1163\n",
            "Conditioning image 1164\n",
            "Conditioning image 1165\n",
            "Conditioning image 1166\n",
            "Conditioning image 1167\n",
            "Conditioning image 1168\n",
            "Conditioning image 1169\n",
            "Conditioning image 1170\n",
            "Conditioning image 1171\n",
            "Conditioning image 1172\n",
            "Conditioning image 1173\n",
            "Conditioning image 1174\n",
            "Conditioning image 1175\n",
            "Conditioning image 1176\n",
            "Conditioning image 1177\n",
            "Conditioning image 1178\n",
            "Conditioning image 1179\n",
            "Conditioning image 1180\n",
            "Conditioning image 1181\n",
            "Conditioning image 1182\n",
            "Conditioning image 1183\n",
            "Conditioning image 1184\n",
            "Conditioning image 1185\n",
            "Conditioning image 1186\n",
            "Conditioning image 1187\n",
            "Conditioning image 1188\n",
            "Conditioning image 1189\n",
            "Conditioning image 1190\n",
            "Conditioning image 1191\n",
            "Conditioning image 1192\n",
            "Conditioning image 1193\n",
            "Conditioning image 1194\n",
            "Conditioning image 1195\n",
            "Conditioning image 1196\n",
            "Conditioning image 1197\n",
            "Conditioning image 1198\n",
            "Conditioning image 1199\n",
            "Conditioning image 1200\n",
            "Conditioning image 1201\n",
            "Conditioning image 1202\n",
            "Conditioning image 1203\n",
            "Conditioning image 1204\n",
            "Conditioning image 1205\n",
            "Conditioning image 1206\n",
            "Conditioning image 1207\n",
            "Conditioning image 1208\n",
            "Conditioning image 1209\n",
            "Conditioning image 1210\n",
            "Conditioning image 1211\n",
            "Conditioning image 1212\n",
            "Conditioning image 1213\n",
            "Conditioning image 1214\n",
            "Conditioning image 1215\n",
            "Conditioning image 1216\n",
            "Conditioning image 1217\n",
            "Conditioning image 1218\n",
            "Conditioning image 1219\n",
            "Conditioning image 1220\n",
            "Conditioning image 1221\n",
            "Conditioning image 1222\n",
            "Conditioning image 1223\n",
            "Conditioning image 1224\n",
            "Conditioning image 1225\n",
            "Conditioning image 1226\n",
            "Conditioning image 1227\n",
            "Conditioning image 1228\n",
            "Conditioning image 1229\n",
            "Conditioning image 1230\n",
            "Conditioning image 1231\n",
            "Conditioning image 1232\n",
            "Conditioning image 1233\n",
            "Conditioning image 1234\n",
            "Conditioning image 1235\n",
            "Conditioning image 1236\n",
            "Conditioning image 1237\n",
            "Conditioning image 1238\n",
            "Conditioning image 1239\n",
            "Conditioning image 1240\n",
            "Conditioning image 1241\n",
            "Conditioning image 1242\n",
            "Conditioning image 1243\n",
            "Conditioning image 1244\n",
            "Conditioning image 1245\n",
            "Conditioning image 1246\n",
            "Conditioning image 1247\n",
            "Conditioning image 1248\n",
            "Conditioning image 1249\n",
            "Conditioning image 1250\n",
            "Conditioning image 1251\n",
            "Conditioning image 1252\n",
            "Conditioning image 1253\n",
            "Conditioning image 1254\n",
            "Conditioning image 1255\n",
            "Conditioning image 1256\n",
            "Conditioning image 1257\n",
            "Conditioning image 1258\n",
            "Conditioning image 1259\n",
            "Conditioning image 1260\n",
            "Conditioning image 1261\n",
            "Conditioning image 1262\n",
            "Conditioning image 1263\n",
            "Conditioning image 1264\n",
            "Conditioning image 1265\n",
            "Conditioning image 1266\n",
            "Conditioning image 1267\n",
            "Conditioning image 1268\n",
            "Conditioning image 1269\n",
            "Conditioning image 1270\n",
            "Conditioning image 1271\n",
            "Conditioning image 1272\n",
            "Conditioning image 1273\n",
            "Conditioning image 1274\n",
            "Conditioning image 1275\n",
            "Conditioning image 1276\n",
            "Conditioning image 1277\n",
            "Conditioning image 1278\n",
            "Conditioning image 1279\n",
            "Conditioning image 1280\n",
            "Conditioning image 1281\n",
            "Conditioning image 1282\n",
            "Conditioning image 1283\n",
            "Conditioning image 1284\n",
            "Conditioning image 1285\n",
            "Conditioning image 1286\n",
            "Conditioning image 1287\n",
            "Conditioning image 1288\n",
            "Conditioning image 1289\n",
            "Conditioning image 1290\n",
            "Conditioning image 1291\n",
            "Conditioning image 1292\n",
            "Conditioning image 1293\n",
            "Conditioning image 1294\n",
            "Conditioning image 1295\n",
            "Conditioning image 1296\n",
            "Conditioning image 1297\n",
            "Conditioning image 1298\n",
            "Conditioning image 1299\n",
            "Conditioning image 1300\n",
            "Conditioning image 1301\n",
            "Conditioning image 1302\n",
            "Conditioning image 1303\n",
            "Conditioning image 1304\n",
            "Conditioning image 1305\n",
            "Conditioning image 1306\n",
            "Conditioning image 1307\n",
            "Conditioning image 1308\n",
            "Conditioning image 1309\n",
            "Conditioning image 1310\n",
            "Conditioning image 1311\n",
            "Conditioning image 1312\n",
            "Conditioning image 1313\n",
            "Conditioning image 1314\n",
            "Conditioning image 1315\n",
            "Conditioning image 1316\n",
            "Conditioning image 1317\n",
            "Conditioning image 1318\n",
            "Conditioning image 1319\n",
            "Conditioning image 1320\n",
            "Conditioning image 1321\n",
            "Conditioning image 1322\n",
            "Conditioning image 1323\n",
            "Conditioning image 1324\n",
            "Conditioning image 1325\n",
            "Conditioning image 1326\n",
            "Conditioning image 1327\n",
            "Conditioning image 1328\n",
            "Conditioning image 1329\n",
            "Conditioning image 1330\n",
            "Conditioning image 1331\n",
            "Conditioning image 1332\n",
            "Conditioning image 1333\n",
            "Conditioning image 1334\n",
            "Conditioning image 1335\n",
            "Conditioning image 1336\n",
            "Conditioning image 1337\n",
            "Conditioning image 1338\n",
            "Conditioning image 1339\n",
            "Conditioning image 1340\n",
            "Conditioning image 1341\n",
            "Conditioning image 1342\n",
            "Conditioning image 1343\n",
            "Conditioning image 1344\n",
            "Conditioning image 1345\n",
            "Conditioning image 1346\n",
            "Conditioning image 1347\n",
            "Conditioning image 1348\n",
            "Conditioning image 1349\n",
            "Conditioning image 1350\n",
            "Conditioning image 1351\n",
            "Conditioning image 1352\n",
            "Conditioning image 1353\n",
            "Conditioning image 1354\n",
            "Conditioning image 1355\n",
            "Conditioning image 1356\n",
            "Conditioning image 1357\n",
            "Conditioning image 1358\n",
            "Conditioning image 1359\n",
            "Conditioning image 1360\n",
            "Conditioning image 1361\n",
            "Conditioning image 1362\n",
            "Conditioning image 1363\n",
            "Conditioning image 1364\n",
            "Conditioning image 1365\n",
            "Conditioning image 1366\n",
            "Conditioning image 1367\n",
            "Conditioning image 1368\n",
            "Conditioning image 1369\n",
            "Conditioning image 1370\n",
            "Conditioning image 1371\n",
            "Conditioning image 1372\n",
            "Conditioning image 1373\n",
            "Conditioning image 1374\n",
            "Conditioning image 1375\n",
            "Conditioning image 1376\n",
            "Conditioning image 1377\n",
            "Conditioning image 1378\n",
            "Conditioning image 1379\n",
            "Conditioning image 1380\n",
            "Conditioning image 1381\n",
            "Conditioning image 1382\n",
            "Conditioning image 1383\n",
            "Conditioning image 1384\n",
            "Conditioning image 1385\n",
            "Conditioning image 1386\n",
            "Conditioning image 1387\n",
            "Conditioning image 1388\n",
            "Conditioning image 1389\n",
            "Conditioning image 1390\n",
            "Conditioning image 1391\n",
            "Conditioning image 1392\n",
            "Conditioning image 1393\n",
            "Conditioning image 1394\n",
            "Conditioning image 1395\n",
            "Conditioning image 1396\n",
            "Conditioning image 1397\n",
            "Conditioning image 1398\n",
            "Conditioning image 1399\n",
            "Conditioning image 1400\n",
            "Conditioning image 1401\n",
            "Conditioning image 1402\n",
            "Conditioning image 1403\n",
            "Conditioning image 1404\n",
            "Conditioning image 1405\n",
            "Conditioning image 1406\n",
            "Conditioning image 1407\n",
            "Conditioning image 1408\n",
            "Conditioning image 1409\n",
            "Conditioning image 1410\n",
            "Conditioning image 1411\n",
            "Conditioning image 1412\n",
            "Conditioning image 1413\n",
            "Conditioning image 1414\n",
            "Conditioning image 1415\n",
            "Conditioning image 1416\n",
            "Conditioning image 1417\n",
            "Conditioning image 1418\n",
            "Conditioning image 1419\n",
            "Conditioning image 1420\n",
            "Conditioning image 1421\n",
            "Conditioning image 1422\n",
            "Conditioning image 1423\n",
            "Conditioning image 1424\n",
            "Conditioning image 1425\n",
            "Conditioning image 1426\n",
            "Conditioning image 1427\n",
            "Conditioning image 1428\n",
            "Conditioning image 1429\n",
            "Conditioning image 1430\n",
            "Conditioning image 1431\n",
            "Conditioning image 1432\n",
            "Conditioning image 1433\n",
            "Conditioning image 1434\n",
            "Conditioning image 1435\n",
            "Conditioning image 1436\n",
            "Conditioning image 1437\n",
            "Conditioning image 1438\n",
            "Conditioning image 1439\n",
            "Conditioning image 1440\n",
            "Conditioning image 1441\n",
            "Conditioning image 1442\n",
            "Conditioning image 1443\n",
            "Conditioning image 1444\n",
            "Conditioning image 1445\n",
            "Conditioning image 1446\n",
            "Conditioning image 1447\n",
            "Conditioning image 1448\n",
            "Conditioning image 1449\n",
            "Conditioning image 1450\n",
            "Conditioning image 1451\n",
            "Conditioning image 1452\n",
            "Conditioning image 1453\n",
            "Conditioning image 1454\n",
            "Conditioning image 1455\n",
            "Conditioning image 1456\n",
            "Conditioning image 1457\n",
            "Conditioning image 1458\n",
            "Conditioning image 1459\n",
            "Conditioning image 1460\n",
            "Conditioning image 1461\n",
            "Conditioning image 1462\n",
            "Conditioning image 1463\n",
            "Conditioning image 1464\n",
            "Conditioning image 1465\n",
            "Conditioning image 1466\n",
            "Conditioning image 1467\n",
            "Conditioning image 1468\n",
            "Conditioning image 1469\n",
            "Conditioning image 1470\n",
            "Conditioning image 1471\n",
            "Conditioning image 1472\n",
            "Conditioning image 1473\n",
            "Conditioning image 1474\n",
            "Conditioning image 1475\n",
            "Conditioning image 1476\n",
            "Conditioning image 1477\n",
            "Conditioning image 1478\n",
            "Conditioning image 1479\n",
            "Conditioning image 1480\n",
            "Conditioning image 1481\n",
            "Conditioning image 1482\n",
            "Conditioning image 1483\n",
            "Conditioning image 1484\n",
            "Conditioning image 1485\n",
            "Conditioning image 1486\n",
            "Conditioning image 1487\n",
            "Conditioning image 1488\n",
            "Conditioning image 1489\n",
            "Conditioning image 1490\n",
            "Conditioning image 1491\n",
            "Conditioning image 1492\n",
            "Conditioning image 1493\n",
            "Conditioning image 1494\n",
            "Conditioning image 1495\n",
            "Conditioning image 1496\n",
            "Conditioning image 1497\n",
            "Conditioning image 1498\n",
            "Conditioning image 1499\n",
            "Conditioning image 1500\n",
            "Conditioning image 1501\n",
            "Conditioning image 1502\n",
            "Conditioning image 1503\n",
            "Conditioning image 1504\n",
            "Conditioning image 1505\n",
            "Conditioning image 1506\n",
            "Conditioning image 1507\n",
            "Conditioning image 1508\n",
            "Conditioning image 1509\n",
            "Conditioning image 1510\n",
            "Conditioning image 1511\n",
            "Conditioning image 1512\n",
            "Conditioning image 1513\n",
            "Conditioning image 1514\n",
            "Conditioning image 1515\n",
            "Conditioning image 1516\n",
            "Conditioning image 1517\n",
            "Conditioning image 1518\n",
            "Conditioning image 1519\n",
            "Conditioning image 1520\n",
            "Conditioning image 1521\n",
            "Conditioning image 1522\n",
            "Conditioning image 1523\n",
            "Conditioning image 1524\n",
            "Conditioning image 1525\n",
            "Conditioning image 1526\n",
            "Conditioning image 1527\n",
            "Conditioning image 1528\n",
            "Conditioning image 1529\n",
            "Conditioning image 1530\n",
            "Conditioning image 1531\n",
            "Conditioning image 1532\n",
            "Conditioning image 1533\n",
            "Conditioning image 1534\n",
            "Conditioning image 1535\n",
            "Conditioning image 1536\n",
            "Conditioning image 1537\n",
            "Conditioning image 1538\n",
            "Conditioning image 1539\n",
            "Conditioning image 1540\n",
            "Conditioning image 1541\n",
            "Conditioning image 1542\n",
            "Conditioning image 1543\n",
            "Conditioning image 1544\n",
            "Conditioning image 1545\n",
            "Conditioning image 1546\n",
            "Conditioning image 1547\n",
            "Conditioning image 1548\n",
            "Conditioning image 1549\n",
            "Conditioning image 1550\n",
            "Conditioning image 1551\n",
            "Conditioning image 1552\n",
            "Conditioning image 1553\n",
            "Conditioning image 1554\n",
            "Conditioning image 1555\n",
            "Conditioning image 1556\n",
            "Conditioning image 1557\n",
            "Conditioning image 1558\n",
            "Conditioning image 1559\n",
            "Conditioning image 1560\n",
            "Conditioning image 1561\n",
            "Conditioning image 1562\n",
            "Conditioning image 1563\n",
            "Conditioning image 1564\n",
            "Conditioning image 1565\n",
            "Conditioning image 1566\n",
            "Conditioning image 1567\n",
            "Conditioning image 1568\n",
            "Conditioning image 1569\n",
            "Conditioning image 1570\n",
            "Conditioning image 1571\n",
            "Conditioning image 1572\n",
            "Conditioning image 1573\n",
            "Conditioning image 1574\n",
            "Conditioning image 1575\n",
            "Conditioning image 1576\n",
            "Conditioning image 1577\n",
            "Conditioning image 1578\n",
            "Conditioning image 1579\n",
            "Conditioning image 1580\n",
            "Conditioning image 1581\n",
            "Conditioning image 1582\n",
            "Conditioning image 1583\n",
            "Conditioning image 1584\n",
            "Conditioning image 1585\n",
            "Conditioning image 1586\n",
            "Conditioning image 1587\n",
            "Conditioning image 1588\n",
            "Conditioning image 1589\n",
            "Conditioning image 1590\n",
            "Conditioning image 1591\n",
            "Conditioning image 1592\n",
            "Conditioning image 1593\n",
            "Conditioning image 1594\n",
            "Conditioning image 1595\n",
            "Conditioning image 1596\n",
            "Conditioning image 1597\n",
            "Conditioning image 1598\n",
            "Conditioning image 1599\n",
            "Conditioning image 1600\n",
            "Conditioning image 1601\n",
            "Conditioning image 1602\n",
            "Conditioning image 1603\n",
            "Conditioning image 1604\n",
            "Conditioning image 1605\n",
            "Conditioning image 1606\n",
            "Conditioning image 1607\n",
            "Conditioning image 1608\n",
            "Conditioning image 1609\n",
            "Conditioning image 1610\n",
            "Conditioning image 1611\n",
            "Conditioning image 1612\n",
            "Conditioning image 1613\n",
            "Conditioning image 1614\n",
            "Conditioning image 1615\n",
            "Conditioning image 1616\n",
            "Conditioning image 1617\n",
            "Conditioning image 1618\n",
            "Conditioning image 1619\n",
            "Conditioning image 1620\n",
            "Conditioning image 1621\n",
            "Conditioning image 1622\n",
            "Conditioning image 1623\n",
            "Conditioning image 1624\n",
            "Conditioning image 1625\n",
            "Conditioning image 1626\n",
            "Conditioning image 1627\n",
            "Conditioning image 1628\n",
            "Conditioning image 1629\n",
            "Conditioning image 1630\n",
            "Conditioning image 1631\n",
            "Conditioning image 1632\n",
            "Conditioning image 1633\n",
            "Conditioning image 1634\n",
            "Conditioning image 1635\n",
            "Conditioning image 1636\n",
            "Conditioning image 1637\n",
            "Conditioning image 1638\n",
            "Conditioning image 1639\n",
            "Conditioning image 1640\n",
            "Conditioning image 1641\n",
            "Conditioning image 1642\n",
            "Conditioning image 1643\n",
            "Conditioning image 1644\n",
            "Conditioning image 1645\n",
            "Conditioning image 1646\n",
            "Conditioning image 1647\n",
            "Conditioning image 1648\n",
            "Conditioning image 1649\n",
            "Conditioning image 1650\n",
            "Conditioning image 1651\n",
            "Conditioning image 1652\n",
            "Conditioning image 1653\n",
            "Conditioning image 1654\n",
            "Conditioning image 1655\n",
            "Conditioning image 1656\n",
            "Conditioning image 1657\n",
            "Conditioning image 1658\n",
            "Conditioning image 1659\n",
            "Conditioning image 1660\n",
            "Conditioning image 1661\n",
            "Conditioning image 1662\n",
            "Conditioning image 1663\n",
            "Conditioning image 1664\n",
            "Conditioning image 1665\n",
            "Conditioning image 1666\n",
            "Conditioning image 1667\n",
            "Conditioning image 1668\n",
            "Conditioning image 1669\n",
            "Conditioning image 1670\n",
            "Conditioning image 1671\n",
            "Conditioning image 1672\n",
            "Conditioning image 1673\n",
            "Conditioning image 1674\n",
            "Conditioning image 1675\n",
            "Conditioning image 1676\n",
            "Conditioning image 1677\n",
            "Conditioning image 1678\n",
            "Conditioning image 1679\n",
            "Conditioning image 1680\n",
            "Conditioning image 1681\n",
            "Conditioning image 1682\n",
            "Conditioning image 1683\n",
            "Conditioning image 1684\n",
            "Conditioning image 1685\n",
            "Conditioning image 1686\n",
            "Conditioning image 1687\n",
            "Conditioning image 1688\n",
            "Conditioning image 1689\n",
            "Conditioning image 1690\n",
            "Conditioning image 1691\n",
            "Conditioning image 1692\n",
            "Conditioning image 1693\n",
            "Conditioning image 1694\n",
            "Conditioning image 1695\n",
            "Conditioning image 1696\n",
            "Conditioning image 1697\n",
            "Conditioning image 1698\n",
            "Conditioning image 1699\n",
            "Conditioning image 1700\n",
            "Conditioning image 1701\n",
            "Conditioning image 1702\n",
            "Conditioning image 1703\n",
            "Conditioning image 1704\n",
            "Conditioning image 1705\n",
            "Conditioning image 1706\n",
            "Conditioning image 1707\n",
            "Conditioning image 1708\n",
            "Conditioning image 1709\n",
            "Conditioning image 1710\n",
            "Conditioning image 1711\n",
            "Conditioning image 1712\n",
            "Conditioning image 1713\n",
            "Conditioning image 1714\n",
            "Conditioning image 1715\n",
            "Conditioning image 1716\n",
            "Conditioning image 1717\n",
            "Conditioning image 1718\n",
            "Conditioning image 1719\n",
            "Conditioning image 1720\n",
            "Conditioning image 1721\n",
            "Conditioning image 1722\n",
            "Conditioning image 1723\n",
            "Conditioning image 1724\n",
            "Conditioning image 1725\n",
            "Conditioning image 1726\n",
            "Conditioning image 1727\n",
            "Conditioning image 1728\n",
            "Conditioning image 1729\n",
            "Conditioning image 1730\n",
            "Conditioning image 1731\n",
            "Conditioning image 1732\n",
            "Conditioning image 1733\n",
            "Conditioning image 1734\n",
            "Conditioning image 1735\n",
            "Conditioning image 1736\n",
            "Conditioning image 1737\n",
            "Conditioning image 1738\n",
            "Conditioning image 1739\n",
            "Conditioning image 1740\n",
            "Conditioning image 1741\n",
            "Conditioning image 1742\n",
            "Conditioning image 1743\n",
            "Conditioning image 1744\n",
            "Conditioning image 1745\n",
            "Conditioning image 1746\n",
            "Conditioning image 1747\n",
            "Conditioning image 1748\n",
            "Conditioning image 1749\n",
            "Conditioning image 1750\n",
            "Conditioning image 1751\n",
            "Conditioning image 1752\n",
            "Conditioning image 1753\n",
            "Conditioning image 1754\n",
            "Conditioning image 1755\n",
            "Conditioning image 1756\n",
            "Conditioning image 1757\n",
            "Conditioning image 1758\n",
            "Conditioning image 1759\n",
            "Conditioning image 1760\n",
            "Conditioning image 1761\n",
            "Conditioning image 1762\n",
            "Conditioning image 1763\n",
            "Conditioning image 1764\n",
            "Conditioning image 1765\n",
            "Conditioning image 1766\n",
            "Conditioning image 1767\n",
            "Conditioning image 1768\n",
            "Conditioning image 1769\n",
            "Conditioning image 1770\n",
            "Conditioning image 1771\n",
            "Conditioning image 1772\n",
            "Conditioning image 1773\n",
            "Conditioning image 1774\n",
            "Conditioning image 1775\n",
            "Conditioning image 1776\n",
            "Conditioning image 1777\n",
            "Conditioning image 1778\n",
            "Conditioning image 1779\n",
            "Conditioning image 1780\n",
            "Conditioning image 1781\n",
            "Conditioning image 1782\n",
            "Conditioning image 1783\n",
            "Conditioning image 1784\n",
            "Conditioning image 1785\n",
            "Conditioning image 1786\n",
            "Conditioning image 1787\n",
            "Conditioning image 1788\n",
            "Conditioning image 1789\n",
            "Conditioning image 1790\n",
            "Conditioning image 1791\n",
            "Conditioning image 1792\n",
            "Conditioning image 1793\n",
            "Conditioning image 1794\n",
            "Conditioning image 1795\n",
            "Conditioning image 1796\n",
            "Conditioning image 1797\n",
            "Conditioning image 1798\n",
            "Conditioning image 1799\n",
            "Conditioning image 1800\n",
            "Conditioning image 1801\n",
            "Conditioning image 1802\n",
            "Conditioning image 1803\n",
            "Conditioning image 1804\n",
            "Conditioning image 1805\n",
            "Conditioning image 1806\n",
            "Conditioning image 1807\n",
            "Conditioning image 1808\n",
            "Conditioning image 1809\n",
            "Conditioning image 1810\n",
            "Conditioning image 1811\n",
            "Conditioning image 1812\n",
            "Conditioning image 1813\n",
            "Conditioning image 1814\n",
            "Conditioning image 1815\n",
            "Conditioning image 1816\n",
            "Conditioning image 1817\n",
            "Conditioning image 1818\n",
            "Conditioning image 1819\n",
            "Conditioning image 1820\n",
            "Conditioning image 1821\n",
            "Conditioning image 1822\n",
            "Conditioning image 1823\n",
            "Conditioning image 1824\n",
            "Conditioning image 1825\n",
            "Conditioning image 1826\n",
            "Conditioning image 1827\n",
            "Conditioning image 1828\n",
            "Conditioning image 1829\n",
            "Conditioning image 1830\n",
            "Conditioning image 1831\n",
            "Conditioning image 1832\n",
            "Conditioning image 1833\n",
            "Conditioning image 1834\n",
            "Conditioning image 1835\n",
            "Conditioning image 1836\n",
            "Conditioning image 1837\n",
            "Conditioning image 1838\n",
            "Conditioning image 1839\n",
            "Conditioning image 1840\n",
            "Conditioning image 1841\n",
            "Conditioning image 1842\n",
            "Conditioning image 1843\n",
            "Conditioning image 1844\n",
            "Conditioning image 1845\n",
            "Conditioning image 1846\n",
            "Conditioning image 1847\n",
            "Conditioning image 1848\n",
            "Conditioning image 1849\n",
            "Conditioning image 1850\n",
            "Conditioning image 1851\n",
            "Conditioning image 1852\n",
            "Conditioning image 1853\n",
            "Conditioning image 1854\n",
            "Conditioning image 1855\n",
            "Conditioning image 1856\n",
            "Conditioning image 1857\n",
            "Conditioning image 1858\n",
            "Conditioning image 1859\n",
            "Conditioning image 1860\n",
            "Conditioning image 1861\n",
            "Conditioning image 1862\n",
            "Conditioning image 1863\n",
            "Conditioning image 1864\n",
            "Conditioning image 1865\n",
            "Conditioning image 1866\n",
            "Conditioning image 1867\n",
            "Conditioning image 1868\n",
            "Conditioning image 1869\n",
            "Conditioning image 1870\n",
            "Conditioning image 1871\n",
            "Conditioning image 1872\n",
            "Conditioning image 1873\n",
            "Conditioning image 1874\n",
            "Conditioning image 1875\n",
            "Conditioning image 1876\n",
            "Conditioning image 1877\n",
            "Conditioning image 1878\n",
            "Conditioning image 1879\n",
            "Conditioning image 1880\n",
            "Conditioning image 1881\n",
            "Conditioning image 1882\n",
            "Conditioning image 1883\n",
            "Conditioning image 1884\n",
            "Conditioning image 1885\n",
            "Conditioning image 1886\n",
            "Conditioning image 1887\n",
            "Conditioning image 1888\n",
            "Conditioning image 1889\n",
            "Conditioning image 1890\n",
            "Conditioning image 1891\n",
            "Conditioning image 1892\n",
            "Conditioning image 1893\n",
            "Conditioning image 1894\n",
            "Conditioning image 1895\n",
            "Conditioning image 1896\n",
            "Conditioning image 1897\n",
            "Conditioning image 1898\n",
            "Conditioning image 1899\n",
            "Conditioning image 1900\n",
            "Conditioning image 1901\n",
            "Conditioning image 1902\n",
            "Conditioning image 1903\n",
            "Conditioning image 1904\n",
            "Conditioning image 1905\n",
            "Conditioning image 1906\n",
            "Conditioning image 1907\n",
            "Conditioning image 1908\n",
            "Conditioning image 1909\n",
            "Conditioning image 1910\n",
            "Conditioning image 1911\n",
            "Conditioning image 1912\n",
            "Conditioning image 1913\n",
            "Conditioning image 1914\n",
            "Conditioning image 1915\n",
            "Conditioning image 1916\n",
            "Conditioning image 1917\n",
            "Conditioning image 1918\n",
            "Conditioning image 1919\n",
            "Conditioning image 1920\n",
            "Conditioning image 1921\n",
            "Conditioning image 1922\n",
            "Conditioning image 1923\n",
            "Conditioning image 1924\n",
            "Conditioning image 1925\n",
            "Conditioning image 1926\n",
            "Conditioning image 1927\n",
            "Conditioning image 1928\n",
            "Conditioning image 1929\n",
            "Conditioning image 1930\n",
            "Conditioning image 1931\n",
            "Conditioning image 1932\n",
            "Conditioning image 1933\n",
            "Conditioning image 1934\n",
            "Conditioning image 1935\n",
            "Conditioning image 1936\n",
            "Conditioning image 1937\n",
            "Conditioning image 1938\n",
            "Conditioning image 1939\n",
            "Conditioning image 1940\n",
            "Conditioning image 1941\n",
            "Conditioning image 1942\n",
            "Conditioning image 1943\n",
            "Conditioning image 1944\n",
            "Conditioning image 1945\n",
            "Conditioning image 1946\n",
            "Conditioning image 1947\n",
            "Conditioning image 1948\n",
            "Conditioning image 1949\n",
            "Conditioning image 1950\n",
            "Conditioning image 1951\n",
            "Conditioning image 1952\n",
            "Conditioning image 1953\n",
            "Conditioning image 1954\n",
            "Conditioning image 1955\n",
            "Conditioning image 1956\n",
            "Conditioning image 1957\n",
            "Conditioning image 1958\n",
            "Conditioning image 1959\n",
            "Conditioning image 1960\n",
            "Conditioning image 1961\n",
            "Conditioning image 1962\n",
            "Conditioning image 1963\n",
            "Conditioning image 1964\n",
            "Conditioning image 1965\n",
            "Conditioning image 1966\n",
            "Conditioning image 1967\n",
            "Conditioning image 1968\n",
            "Conditioning image 1969\n",
            "Conditioning image 1970\n",
            "Conditioning image 1971\n",
            "Conditioning image 1972\n",
            "Conditioning image 1973\n",
            "Conditioning image 1974\n",
            "Conditioning image 1975\n",
            "Conditioning image 1976\n",
            "Conditioning image 1977\n",
            "Conditioning image 1978\n",
            "Conditioning image 1979\n",
            "Conditioning image 1980\n",
            "Conditioning image 1981\n",
            "Conditioning image 1982\n",
            "Conditioning image 1983\n",
            "Conditioning image 1984\n",
            "Conditioning image 1985\n",
            "Conditioning image 1986\n",
            "Conditioning image 1987\n",
            "Conditioning image 1988\n",
            "Conditioning image 1989\n",
            "Conditioning image 1990\n",
            "Conditioning image 1991\n",
            "Conditioning image 1992\n",
            "Conditioning image 1993\n",
            "Conditioning image 1994\n",
            "Conditioning image 1995\n",
            "Conditioning image 1996\n",
            "Conditioning image 1997\n",
            "Conditioning image 1998\n",
            "Conditioning image 1999\n",
            "-------------------------------\n",
            "--- Image conditionning  OK ---\n",
            "-------------------------------\n",
            "------------------------\n",
            "--- Defining network ---\n",
            "------------------------\n",
            "WARNING:tensorflow:From <ipython-input-4-94337d74f5d3>:2: batch_normalization (from tensorflow.python.layers.normalization) is deprecated and will be removed in a future version.\n",
            "Instructions for updating:\n",
            "Use keras.layers.BatchNormalization instead.  In particular, `tf.control_dependencies(tf.GraphKeys.UPDATE_OPS)` should not be used (consult the `tf.keras.layers.batch_normalization` documentation).\n",
            "WARNING:tensorflow:From /usr/local/lib/python3.6/dist-packages/tensorflow_core/python/layers/normalization.py:327: Layer.apply (from tensorflow.python.keras.engine.base_layer) is deprecated and will be removed in a future version.\n",
            "Instructions for updating:\n",
            "Please use `layer.__call__` method instead.\n",
            "---------------------------\n",
            "--- Defining network OK ---\n",
            "---------------------------\n"
          ],
          "name": "stdout"
        }
      ]
    },
    {
      "cell_type": "code",
      "metadata": {
        "id": "ouhacHs4KmIq",
        "colab_type": "code",
        "outputId": "d5721650-9c4b-4a42-e567-a0f62091a170",
        "colab": {
          "base_uri": "https://localhost:8080/",
          "height": 1000
        }
      },
      "source": [
        "train_errors, test_errors = trainModel(train_images, test_images, train_labels, test_labels)\n",
        "showPerformance(train_errors, test_errors, save=True)"
      ],
      "execution_count": 0,
      "outputs": [
        {
          "output_type": "stream",
          "text": [
            "-----------------------\n",
            "--- Training model  ---\n",
            "-----------------------\n",
            "--- Entrainement 0 ---\n",
            "> entrainement OK\n",
            "> train: 0.49803146719932556, test: 0.49841997027397156\n",
            "\n",
            "--- Entrainement 1 ---\n",
            "> entrainement OK\n",
            "> train: 0.5506283044815063, test: 0.5519727468490601\n",
            "\n",
            "--- Entrainement 2 ---\n",
            "> entrainement OK\n",
            "> train: 0.598122239112854, test: 0.5997267365455627\n",
            "\n",
            "--- Entrainement 3 ---\n",
            "> entrainement OK\n",
            "> train: 0.6506404280662537, test: 0.6528621912002563\n",
            "\n",
            "--- Entrainement 4 ---\n",
            "> entrainement OK\n",
            "> train: 0.7097694873809814, test: 0.7121931910514832\n",
            "\n",
            "--- Entrainement 5 ---\n",
            "> entrainement OK\n",
            "> train: 0.7502943277359009, test: 0.7522081136703491\n",
            "\n",
            "--- Entrainement 6 ---\n",
            "> entrainement OK\n",
            "> train: 0.7779119610786438, test: 0.7795661687850952\n",
            "\n",
            "--- Entrainement 7 ---\n",
            "> entrainement OK\n",
            "> train: 0.8016729950904846, test: 0.8029888868331909\n",
            "\n",
            "--- Entrainement 8 ---\n",
            "> entrainement OK\n",
            "> train: 0.8250812888145447, test: 0.8261188268661499\n",
            "\n",
            "--- Entrainement 9 ---\n",
            "> entrainement OK\n",
            "> train: 0.8641141653060913, test: 0.8652872443199158\n",
            "\n",
            "--- Entrainement 10 ---\n",
            "> entrainement OK\n",
            "> train: 0.8822106719017029, test: 0.8832124471664429\n",
            "\n",
            "--- Entrainement 11 ---\n",
            "> entrainement OK\n",
            "> train: 0.89753657579422, test: 0.8983877301216125\n",
            "\n",
            "--- Entrainement 12 ---\n",
            "> entrainement OK\n",
            "> train: 0.9084038138389587, test: 0.9090203642845154\n",
            "\n",
            "--- Entrainement 13 ---\n",
            "> entrainement OK\n",
            "> train: 0.9146606922149658, test: 0.915217399597168\n",
            "\n",
            "--- Entrainement 14 ---\n",
            "> entrainement OK\n",
            "> train: 0.9213594794273376, test: 0.9218262434005737\n",
            "\n",
            "--- Entrainement 15 ---\n",
            "> entrainement OK\n",
            "> train: 0.9259564280509949, test: 0.926336944103241\n",
            "\n",
            "--- Entrainement 16 ---\n",
            "> entrainement OK\n",
            "> train: 0.928943932056427, test: 0.9293001890182495\n",
            "\n",
            "--- Entrainement 17 ---\n",
            "> entrainement OK\n",
            "> train: 0.9322362542152405, test: 0.9325336813926697\n",
            "\n",
            "--- Entrainement 18 ---\n",
            "> entrainement OK\n",
            "> train: 0.9356935024261475, test: 0.9358806014060974\n",
            "\n",
            "--- Entrainement 19 ---\n",
            "> entrainement OK\n",
            "> train: 0.9388673305511475, test: 0.9390833377838135\n",
            "\n",
            "--- Entrainement 20 ---\n",
            "> entrainement OK\n",
            "> train: 0.9414647221565247, test: 0.9417411684989929\n",
            "\n",
            "--- Entrainement 21 ---\n",
            "> entrainement OK\n",
            "> train: 0.9439347386360168, test: 0.9441753625869751\n",
            "\n",
            "--- Entrainement 22 ---\n",
            "> entrainement OK\n",
            "> train: 0.94716477394104, test: 0.9473082423210144\n",
            "\n",
            "--- Entrainement 23 ---\n",
            "> entrainement OK\n",
            "> train: 0.9582951068878174, test: 0.9582856893539429\n",
            "\n",
            "--- Entrainement 24 ---\n",
            "> entrainement OK\n",
            "> train: 0.9678553342819214, test: 0.9678143262863159\n",
            "\n",
            "--- Entrainement 25 ---\n",
            "> entrainement OK\n",
            "> train: 0.9691373109817505, test: 0.9690466523170471\n",
            "\n",
            "--- Entrainement 26 ---\n",
            "> entrainement OK\n",
            "> train: 0.9699215292930603, test: 0.9697977304458618\n",
            "\n",
            "--- Entrainement 27 ---\n",
            "> entrainement OK\n",
            "> train: 0.9705464839935303, test: 0.9703929424285889\n",
            "\n",
            "--- Entrainement 28 ---\n",
            "> entrainement OK\n",
            "> train: 0.9711011052131653, test: 0.9709208607673645\n",
            "\n",
            "--- Entrainement 29 ---\n",
            "> entrainement OK\n",
            "> train: 0.971602737903595, test: 0.9713969230651855\n",
            "\n",
            "--- Entrainement 30 ---\n",
            "> entrainement OK\n",
            "> train: 0.9720962047576904, test: 0.9718719720840454\n",
            "\n",
            "--- Entrainement 31 ---\n",
            "> entrainement OK\n",
            "> train: 0.972571611404419, test: 0.972341001033783\n",
            "\n",
            "--- Entrainement 32 ---\n",
            "> entrainement OK\n",
            "> train: 0.9730360507965088, test: 0.9728045463562012\n",
            "\n",
            "--- Entrainement 33 ---\n",
            "> entrainement OK\n",
            "> train: 0.9734854102134705, test: 0.9732540249824524\n",
            "\n",
            "--- Entrainement 34 ---\n",
            "> entrainement OK\n",
            "> train: 0.9739204049110413, test: 0.9736911058425903\n",
            "\n",
            "--- Entrainement 35 ---\n",
            "> entrainement OK\n",
            "> train: 0.9743563532829285, test: 0.9741173386573792\n",
            "\n",
            "--- Entrainement 36 ---\n",
            "> entrainement OK\n",
            "> train: 0.9748448133468628, test: 0.9746041297912598\n",
            "\n",
            "--- Entrainement 37 ---\n",
            "> entrainement OK\n",
            "> train: 0.9756589531898499, test: 0.9753828048706055\n",
            "\n",
            "--- Entrainement 38 ---\n",
            "> entrainement OK\n",
            "> train: 0.9797951579093933, test: 0.9792430996894836\n",
            "\n",
            "--- Entrainement 39 ---\n",
            "> entrainement OK\n",
            "> train: 0.9804990291595459, test: 0.9798852205276489\n",
            "\n",
            "--- Entrainement 40 ---\n",
            "> entrainement OK\n",
            "> train: 0.9809644222259521, test: 0.9803298711776733\n",
            "\n",
            "--- Entrainement 41 ---\n",
            "> entrainement OK\n",
            "> train: 0.981327474117279, test: 0.9806667566299438\n",
            "\n",
            "--- Entrainement 42 ---\n",
            "> entrainement OK\n",
            "> train: 0.981621503829956, test: 0.9809470176696777\n",
            "\n",
            "--- Entrainement 43 ---\n",
            "> entrainement OK\n",
            "> train: 0.9818801879882812, test: 0.9811952710151672\n",
            "\n",
            "--- Entrainement 44 ---\n",
            "> entrainement OK\n",
            "> train: 0.9821141362190247, test: 0.9814159274101257\n",
            "\n",
            "--- Entrainement 45 ---\n",
            "> entrainement OK\n",
            "> train: 0.9823224544525146, test: 0.981620728969574\n",
            "\n",
            "--- Entrainement 46 ---\n",
            "> entrainement OK\n",
            "> train: 0.9824997782707214, test: 0.9817864298820496\n",
            "\n",
            "--- Entrainement 47 ---\n",
            "> entrainement OK\n",
            "> train: 0.9826614856719971, test: 0.9819422364234924\n",
            "\n",
            "--- Entrainement 48 ---\n",
            "> entrainement OK\n",
            "> train: 0.982803463935852, test: 0.9820857644081116\n",
            "\n",
            "--- Entrainement 49 ---\n",
            "> entrainement OK\n",
            "> train: 0.9829179048538208, test: 0.9821925759315491\n",
            "\n",
            "--- Entrainement 50 ---\n",
            "> entrainement OK\n",
            "> train: 0.9830292463302612, test: 0.9822934865951538\n",
            "\n",
            "--- Entrainement 51 ---\n",
            "> entrainement OK\n",
            "> train: 0.9831328988075256, test: 0.9823839664459229\n",
            "\n",
            "--- Entrainement 52 ---\n",
            "> entrainement OK\n",
            "> train: 0.9832293391227722, test: 0.9824745655059814\n",
            "\n",
            "--- Entrainement 53 ---\n",
            "> entrainement OK\n",
            "> train: 0.9833261966705322, test: 0.9825497269630432\n",
            "\n",
            "--- Entrainement 54 ---\n",
            "> entrainement OK\n",
            "> train: 0.9834182262420654, test: 0.9826186895370483\n",
            "\n",
            "--- Entrainement 55 ---\n",
            "> entrainement OK\n",
            "> train: 0.9834981560707092, test: 0.9826889634132385\n",
            "\n",
            "--- Entrainement 56 ---\n",
            "> entrainement OK\n",
            "> train: 0.9835860133171082, test: 0.9827632904052734\n",
            "\n",
            "--- Entrainement 57 ---\n",
            "> entrainement OK\n",
            "> train: 0.9836887717247009, test: 0.9828537702560425\n",
            "\n",
            "--- Entrainement 58 ---\n",
            "> entrainement OK\n",
            "> train: 0.9838274717330933, test: 0.98298180103302\n",
            "\n",
            "--- Entrainement 59 ---\n",
            "> entrainement OK\n",
            "> train: 0.9839873909950256, test: 0.9831348657608032\n",
            "\n",
            "--- Entrainement 60 ---\n",
            "> entrainement OK\n",
            "> train: 0.9841587543487549, test: 0.9832985997200012\n",
            "\n",
            "--- Entrainement 61 ---\n",
            "> entrainement OK\n",
            "> train: 0.9843008518218994, test: 0.9834354519844055\n",
            "\n",
            "--- Entrainement 62 ---\n",
            "> entrainement OK\n",
            "> train: 0.9844131469726562, test: 0.983533501625061\n",
            "\n",
            "--- Entrainement 63 ---\n",
            "> entrainement OK\n",
            "> train: 0.9845085144042969, test: 0.9836231470108032\n",
            "\n",
            "--- Entrainement 64 ---\n",
            "> entrainement OK\n",
            "> train: 0.9845942258834839, test: 0.9837039709091187\n",
            "\n",
            "--- Entrainement 65 ---\n",
            "> entrainement OK\n",
            "> train: 0.984670102596283, test: 0.9837713837623596\n",
            "\n",
            "--- Entrainement 66 ---\n",
            "> entrainement OK\n",
            "> train: 0.9847418665885925, test: 0.9838374853134155\n",
            "\n",
            "--- Entrainement 67 ---\n",
            "> entrainement OK\n",
            "> train: 0.9848077297210693, test: 0.9838962554931641\n",
            "\n",
            "--- Entrainement 68 ---\n",
            "> entrainement OK\n",
            "> train: 0.9848716259002686, test: 0.9839524626731873\n",
            "\n",
            "--- Entrainement 69 ---\n",
            "> entrainement OK\n",
            "> train: 0.984935998916626, test: 0.9840050935745239\n",
            "\n",
            "--- Entrainement 70 ---\n",
            "> entrainement OK\n",
            "> train: 0.9850086569786072, test: 0.9840719103813171\n",
            "\n",
            "--- Entrainement 71 ---\n",
            "> entrainement OK\n",
            "> train: 0.9850848317146301, test: 0.9841329455375671\n",
            "\n",
            "--- Entrainement 72 ---\n",
            "> entrainement OK\n",
            "> train: 0.9851582646369934, test: 0.9841936230659485\n",
            "\n",
            "--- Entrainement 73 ---\n",
            "> entrainement OK\n",
            "> train: 0.9852371215820312, test: 0.9842580556869507\n",
            "\n",
            "--- Entrainement 74 ---\n",
            "> entrainement OK\n",
            "> train: 0.9853139519691467, test: 0.9843168258666992\n",
            "\n",
            "--- Entrainement 75 ---\n",
            "> entrainement OK\n",
            "> train: 0.985388994216919, test: 0.9843727350234985\n",
            "\n",
            "--- Entrainement 76 ---\n",
            "> entrainement OK\n",
            "> train: 0.9854612350463867, test: 0.9844251275062561\n",
            "\n",
            "--- Entrainement 77 ---\n",
            "> entrainement OK\n",
            "> train: 0.9855296611785889, test: 0.9844710230827332\n",
            "\n",
            "--- Entrainement 78 ---\n",
            "> entrainement OK\n",
            "> train: 0.9855890274047852, test: 0.9845113754272461\n",
            "\n",
            "--- Entrainement 79 ---\n",
            "> entrainement OK\n",
            "> train: 0.9856380820274353, test: 0.9845307469367981\n",
            "\n",
            "--- Entrainement 80 ---\n",
            "> entrainement OK\n",
            "> train: 0.9856687188148499, test: 0.984539270401001\n",
            "\n",
            "--- Entrainement 81 ---\n",
            "> entrainement OK\n",
            "> train: 0.9856963753700256, test: 0.9845396280288696\n",
            "\n",
            "--- Entrainement 82 ---\n",
            "> entrainement OK\n",
            "> train: 0.9857475757598877, test: 0.9845707416534424\n",
            "\n",
            "--- Entrainement 83 ---\n",
            "> entrainement OK\n",
            "> train: 0.985855221748352, test: 0.9846819639205933\n",
            "\n",
            "--- Entrainement 84 ---\n",
            "> entrainement OK\n",
            "> train: 0.9860000610351562, test: 0.9848291277885437\n",
            "\n",
            "--- Entrainement 85 ---\n",
            "> entrainement OK\n",
            "> train: 0.9861426949501038, test: 0.984977126121521\n",
            "\n",
            "--- Entrainement 86 ---\n",
            "> entrainement OK\n",
            "> train: 0.9862800240516663, test: 0.9851146936416626\n",
            "\n",
            "--- Entrainement 87 ---\n",
            "> entrainement OK\n",
            "> train: 0.9864084720611572, test: 0.9852396249771118\n",
            "\n",
            "--- Entrainement 88 ---\n",
            "> entrainement OK\n",
            "> train: 0.9865198135375977, test: 0.9853444695472717\n",
            "\n",
            "--- Entrainement 89 ---\n",
            "> entrainement OK\n",
            "> train: 0.9866158962249756, test: 0.9854340553283691\n",
            "\n",
            "--- Entrainement 90 ---\n",
            "> entrainement OK\n",
            "> train: 0.9866979122161865, test: 0.9855096340179443\n",
            "\n",
            "--- Entrainement 91 ---\n",
            "> entrainement OK\n",
            "> train: 0.9867739081382751, test: 0.9855833649635315\n",
            "\n",
            "--- Entrainement 92 ---\n",
            "> entrainement OK\n",
            "> train: 0.9868452548980713, test: 0.9856518507003784\n",
            "\n",
            "--- Entrainement 93 ---\n",
            "> entrainement OK\n",
            "> train: 0.9869140982627869, test: 0.9857195019721985\n",
            "\n",
            "--- Entrainement 94 ---\n",
            "> entrainement OK\n",
            "> train: 0.9869840145111084, test: 0.9857907295227051\n",
            "\n",
            "--- Entrainement 95 ---\n",
            "> entrainement OK\n",
            "> train: 0.9870481491088867, test: 0.9858489036560059\n",
            "\n",
            "--- Entrainement 96 ---\n",
            "> entrainement OK\n",
            "> train: 0.9871116280555725, test: 0.9859112501144409\n",
            "\n",
            "--- Entrainement 97 ---\n",
            "> entrainement OK\n",
            "> train: 0.9871704578399658, test: 0.9859699606895447\n",
            "\n",
            "--- Entrainement 98 ---\n",
            "> entrainement OK\n",
            "> train: 0.9872311353683472, test: 0.9860250353813171\n",
            "\n",
            "--- Entrainement 99 ---\n",
            "> entrainement OK\n",
            "> train: 0.9872885942459106, test: 0.9860813617706299\n",
            "\n",
            "-------------------------\n",
            "--- Training model OK ---\n",
            "-------------------------\n"
          ],
          "name": "stdout"
        },
        {
          "output_type": "display_data",
          "data": {
            "image/png": "[encoded data removed]",
            "text/plain": [
              "<Figure size 432x288 with 1 Axes>"
            ]
          },
          "metadata": {
            "tags": []
          }
        }
      ]
    },
    {
      "cell_type": "code",
      "metadata": {
        "id": "qJ-kITgHKqBR",
        "colab_type": "code",
        "outputId": "53c1ba91-6fdc-434e-860b-a5a198c5a115",
        "colab": {
          "base_uri": "https://localhost:8080/",
          "height": 1000
        }
      },
      "source": [
        "with tf.Session() as s:\n",
        "    saver=tf.train.import_meta_graph('./drive/My Drive/modele_2000_images_13_labels/modele.meta')\n",
        "    saver.restore(s, tf.train.latest_checkpoint('./drive/My Drive/modele_2000_images_13_labels'))\n",
        "    graph=tf.get_default_graph()\n",
        "    images=graph.get_tensor_by_name(\"images:0\")\n",
        "    sortie=graph.get_tensor_by_name(\"sortie:0\")\n",
        "    is_training=graph.get_tensor_by_name(\"is_training:0\")\n",
        "\n",
        "    for i, f in enumerate(os.listdir(images_path)):\n",
        "        print(f\"\\n--- Image {i} ---\")\n",
        "        runNetworkOnImage(s, f)"
      ],
      "execution_count": 0,
      "outputs": [
        {
          "output_type": "stream",
          "text": [
            "INFO:tensorflow:Restoring parameters from ./drive/My Drive/modele_2000_images_13_labels/modele\n",
            "\n",
            "--- Image 0 ---\n"
          ],
          "name": "stdout"
        },
        {
          "output_type": "display_data",
          "data": {
            "image/png": "[encoded data removed]",
            "text/plain": [
              "<Figure size 432x288 with 1 Axes>"
            ]
          },
          "metadata": {
            "tags": []
          }
        },
        {
          "output_type": "stream",
          "text": [
            "--- Label : Unlabeled ---\n"
          ],
          "name": "stdout"
        },
        {
          "output_type": "display_data",
          "data": {
            "image/png": "[encoded data removed]",
            "text/plain": [
              "<PIL.Image.Image image mode=L size=160x120 at 0x7FE63A4BA3C8>"
            ]
          },
          "metadata": {
            "tags": []
          }
        },
        {
          "output_type": "stream",
          "text": [
            "--- Label : Building ---\n"
          ],
          "name": "stdout"
        },
        {
          "output_type": "display_data",
          "data": {
            "image/png": "[encoded data removed]",
            "text/plain": [
              "<PIL.Image.Image image mode=L size=160x120 at 0x7FE633FAEDD8>"
            ]
          },
          "metadata": {
            "tags": []
          }
        },
        {
          "output_type": "stream",
          "text": [
            "--- Label : Fence ---\n"
          ],
          "name": "stdout"
        },
        {
          "output_type": "display_data",
          "data": {
            "image/png": "[encoded data removed]",
            "text/plain": [
              "<PIL.Image.Image image mode=L size=160x120 at 0x7FE63A4BA438>"
            ]
          },
          "metadata": {
            "tags": []
          }
        },
        {
          "output_type": "stream",
          "text": [
            "--- Label : Other ---\n"
          ],
          "name": "stdout"
        },
        {
          "output_type": "display_data",
          "data": {
            "image/png": "[encoded data removed]",
            "text/plain": [
              "<PIL.Image.Image image mode=L size=160x120 at 0x7FE63A4BA748>"
            ]
          },
          "metadata": {
            "tags": []
          }
        },
        {
          "output_type": "stream",
          "text": [
            "--- Label : Pedestrian ---\n"
          ],
          "name": "stdout"
        },
        {
          "output_type": "display_data",
          "data": {
            "image/png": "[encoded data removed]",
            "text/plain": [
              "<PIL.Image.Image image mode=L size=160x120 at 0x7FE63A4BA438>"
            ]
          },
          "metadata": {
            "tags": []
          }
        },
        {
          "output_type": "stream",
          "text": [
            "--- Label : Pole ---\n"
          ],
          "name": "stdout"
        },
        {
          "output_type": "display_data",
          "data": {
            "image/png": "[encoded data removed]",
            "text/plain": [
              "<PIL.Image.Image image mode=L size=160x120 at 0x7FE63A4BA748>"
            ]
          },
          "metadata": {
            "tags": []
          }
        },
        {
          "output_type": "stream",
          "text": [
            "--- Label : Road line ---\n"
          ],
          "name": "stdout"
        },
        {
          "output_type": "display_data",
          "data": {
            "image/png": "[encoded data removed]",
            "text/plain": [
              "<PIL.Image.Image image mode=L size=160x120 at 0x7FE63A4BA438>"
            ]
          },
          "metadata": {
            "tags": []
          }
        },
        {
          "output_type": "stream",
          "text": [
            "--- Label : Road ---\n"
          ],
          "name": "stdout"
        },
        {
          "output_type": "display_data",
          "data": {
            "image/png": "[encoded data removed]",
            "text/plain": [
              "<PIL.Image.Image image mode=L size=160x120 at 0x7FE63A4BA748>"
            ]
          },
          "metadata": {
            "tags": []
          }
        },
        {
          "output_type": "stream",
          "text": [
            "--- Label : Sidewalk ---\n"
          ],
          "name": "stdout"
        },
        {
          "output_type": "display_data",
          "data": {
            "image/png": "[encoded data removed]",
            "text/plain": [
              "<PIL.Image.Image image mode=L size=160x120 at 0x7FE63A4BA438>"
            ]
          },
          "metadata": {
            "tags": []
          }
        },
        {
          "output_type": "stream",
          "text": [
            "--- Label : Vegetation ---\n"
          ],
          "name": "stdout"
        },
        {
          "output_type": "display_data",
          "data": {
            "image/png": "[encoded data removed]",
            "text/plain": [
              "<PIL.Image.Image image mode=L size=160x120 at 0x7FE63A4BA748>"
            ]
          },
          "metadata": {
            "tags": []
          }
        },
        {
          "output_type": "stream",
          "text": [
            "--- Label : Car ---\n"
          ],
          "name": "stdout"
        },
        {
          "output_type": "display_data",
          "data": {
            "image/png": "[encoded data removed]",
            "text/plain": [
              "<PIL.Image.Image image mode=L size=160x120 at 0x7FE63A4BA438>"
            ]
          },
          "metadata": {
            "tags": []
          }
        },
        {
          "output_type": "stream",
          "text": [
            "--- Label : Wall ---\n"
          ],
          "name": "stdout"
        },
        {
          "output_type": "display_data",
          "data": {
            "image/png": "[encoded data removed]",
            "text/plain": [
              "<PIL.Image.Image image mode=L size=160x120 at 0x7FE63A4BA748>"
            ]
          },
          "metadata": {
            "tags": []
          }
        },
        {
          "output_type": "stream",
          "text": [
            "--- Label : Traffic sign ---\n"
          ],
          "name": "stdout"
        },
        {
          "output_type": "display_data",
          "data": {
            "image/png": "[encoded data removed]",
            "text/plain": [
              "<PIL.Image.Image image mode=L size=160x120 at 0x7FE63A4BA438>"
            ]
          },
          "metadata": {
            "tags": []
          }
        },
        {
          "output_type": "stream",
          "text": [
            "\n",
            "--- Image 1 ---\n"
          ],
          "name": "stdout"
        },
        {
          "output_type": "display_data",
          "data": {
            "image/png": "[encoded data removed]",
            "text/plain": [
              "<Figure size 432x288 with 1 Axes>"
            ]
          },
          "metadata": {
            "tags": []
          }
        },
        {
          "output_type": "stream",
          "text": [
            "--- Label : Unlabeled ---\n"
          ],
          "name": "stdout"
        },
        {
          "output_type": "display_data",
          "data": {
            "image/png": "[encoded data removed]",
            "text/plain": [
              "<PIL.Image.Image image mode=L size=160x120 at 0x7FE633F14D68>"
            ]
          },
          "metadata": {
            "tags": []
          }
        },
        {
          "output_type": "stream",
          "text": [
            "--- Label : Building ---\n"
          ],
          "name": "stdout"
        },
        {
          "output_type": "display_data",
          "data": {
            "image/png": "[encoded data removed]",
            "text/plain": [
              "<PIL.Image.Image image mode=L size=160x120 at 0x7FE633F14A58>"
            ]
          },
          "metadata": {
            "tags": []
          }
        },
        {
          "output_type": "stream",
          "text": [
            "--- Label : Fence ---\n"
          ],
          "name": "stdout"
        },
        {
          "output_type": "display_data",
          "data": {
            "image/png": "[encoded data removed]",
            "text/plain": [
              "<PIL.Image.Image image mode=L size=160x120 at 0x7FE633F14D68>"
            ]
          },
          "metadata": {
            "tags": []
          }
        },
        {
          "output_type": "stream",
          "text": [
            "--- Label : Other ---\n"
          ],
          "name": "stdout"
        },
        {
          "output_type": "display_data",
          "data": {
            "image/png": "[encoded data removed]",
            "text/plain": [
              "<PIL.Image.Image image mode=L size=160x120 at 0x7FE633F14A58>"
            ]
          },
          "metadata": {
            "tags": []
          }
        },
        {
          "output_type": "stream",
          "text": [
            "--- Label : Pedestrian ---\n"
          ],
          "name": "stdout"
        },
        {
          "output_type": "display_data",
          "data": {
            "image/png": "[encoded data removed]",
            "text/plain": [
              "<PIL.Image.Image image mode=L size=160x120 at 0x7FE633F14D68>"
            ]
          },
          "metadata": {
            "tags": []
          }
        },
        {
          "output_type": "stream",
          "text": [
            "--- Label : Pole ---\n"
          ],
          "name": "stdout"
        },
        {
          "output_type": "display_data",
          "data": {
            "image/png": "[encoded data removed]",
            "text/plain": [
              "<PIL.Image.Image image mode=L size=160x120 at 0x7FE633F14A58>"
            ]
          },
          "metadata": {
            "tags": []
          }
        },
        {
          "output_type": "stream",
          "text": [
            "--- Label : Road line ---\n"
          ],
          "name": "stdout"
        },
        {
          "output_type": "display_data",
          "data": {
            "image/png": "[encoded data removed]",
            "text/plain": [
              "<PIL.Image.Image image mode=L size=160x120 at 0x7FE633F14D68>"
            ]
          },
          "metadata": {
            "tags": []
          }
        },
        {
          "output_type": "stream",
          "text": [
            "--- Label : Road ---\n"
          ],
          "name": "stdout"
        },
        {
          "output_type": "display_data",
          "data": {
            "image/png": "[encoded data removed]",
            "text/plain": [
              "<PIL.Image.Image image mode=L size=160x120 at 0x7FE633F14A58>"
            ]
          },
          "metadata": {
            "tags": []
          }
        },
        {
          "output_type": "stream",
          "text": [
            "--- Label : Sidewalk ---\n"
          ],
          "name": "stdout"
        },
        {
          "output_type": "display_data",
          "data": {
            "image/png": "[encoded data removed]",
            "text/plain": [
              "<PIL.Image.Image image mode=L size=160x120 at 0x7FE633F14D68>"
            ]
          },
          "metadata": {
            "tags": []
          }
        },
        {
          "output_type": "stream",
          "text": [
            "--- Label : Vegetation ---\n"
          ],
          "name": "stdout"
        },
        {
          "output_type": "display_data",
          "data": {
            "image/png": "[encoded data removed]",
            "text/plain": [
              "<PIL.Image.Image image mode=L size=160x120 at 0x7FE633F14A58>"
            ]
          },
          "metadata": {
            "tags": []
          }
        },
        {
          "output_type": "stream",
          "text": [
            "--- Label : Car ---\n"
          ],
          "name": "stdout"
        },
        {
          "output_type": "display_data",
          "data": {
            "image/png": "[encoded data removed]",
            "text/plain": [
              "<PIL.Image.Image image mode=L size=160x120 at 0x7FE633F14D68>"
            ]
          },
          "metadata": {
            "tags": []
          }
        },
        {
          "output_type": "stream",
          "text": [
            "--- Label : Wall ---\n"
          ],
          "name": "stdout"
        },
        {
          "output_type": "display_data",
          "data": {
            "image/png": "[encoded data removed]",
            "text/plain": [
              "<PIL.Image.Image image mode=L size=160x120 at 0x7FE633F14A58>"
            ]
          },
          "metadata": {
            "tags": []
          }
        },
        {
          "output_type": "stream",
          "text": [
            "--- Label : Traffic sign ---\n"
          ],
          "name": "stdout"
        },
        {
          "output_type": "display_data",
          "data": {
            "image/png": "[encoded data removed]",
            "text/plain": [
              "<PIL.Image.Image image mode=L size=160x120 at 0x7FE633F14D68>"
            ]
          },
          "metadata": {
            "tags": []
          }
        },
        {
          "output_type": "stream",
          "text": [
            "\n",
            "--- Image 2 ---\n"
          ],
          "name": "stdout"
        },
        {
          "output_type": "display_data",
          "data": {
            "image/png": "[encoded data removed]",
            "text/plain": [
              "<Figure size 432x288 with 1 Axes>"
            ]
          },
          "metadata": {
            "tags": []
          }
        },
        {
          "output_type": "stream",
          "text": [
            "--- Label : Unlabeled ---\n"
          ],
          "name": "stdout"
        },
        {
          "output_type": "display_data",
          "data": {
            "image/png": "[encoded data removed]",
            "text/plain": [
              "<PIL.Image.Image image mode=L size=160x120 at 0x7FE633EE6630>"
            ]
          },
          "metadata": {
            "tags": []
          }
        },
        {
          "output_type": "stream",
          "text": [
            "--- Label : Building ---\n"
          ],
          "name": "stdout"
        },
        {
          "output_type": "display_data",
          "data": {
            "image/png": "[encoded data removed]",
            "text/plain": [
              "<PIL.Image.Image image mode=L size=160x120 at 0x7FE633EE64E0>"
            ]
          },
          "metadata": {
            "tags": []
          }
        },
        {
          "output_type": "stream",
          "text": [
            "--- Label : Fence ---\n"
          ],
          "name": "stdout"
        },
        {
          "output_type": "display_data",
          "data": {
            "image/png": "[encoded data removed]",
            "text/plain": [
              "<PIL.Image.Image image mode=L size=160x120 at 0x7FE633EE6F28>"
            ]
          },
          "metadata": {
            "tags": []
          }
        },
        {
          "output_type": "stream",
          "text": [
            "--- Label : Other ---\n"
          ],
          "name": "stdout"
        },
        {
          "output_type": "display_data",
          "data": {
            "image/png": "[encoded data removed]",
            "text/plain": [
              "<PIL.Image.Image image mode=L size=160x120 at 0x7FE633EE6400>"
            ]
          },
          "metadata": {
            "tags": []
          }
        },
        {
          "output_type": "stream",
          "text": [
            "--- Label : Pedestrian ---\n"
          ],
          "name": "stdout"
        },
        {
          "output_type": "display_data",
          "data": {
            "image/png": "[encoded data removed]",
            "text/plain": [
              "<PIL.Image.Image image mode=L size=160x120 at 0x7FE633EE6390>"
            ]
          },
          "metadata": {
            "tags": []
          }
        },
        {
          "output_type": "stream",
          "text": [
            "--- Label : Pole ---\n"
          ],
          "name": "stdout"
        },
        {
          "output_type": "display_data",
          "data": {
            "image/png": "[encoded data removed]",
            "text/plain": [
              "<PIL.Image.Image image mode=L size=160x120 at 0x7FE633EE6550>"
            ]
          },
          "metadata": {
            "tags": []
          }
        },
        {
          "output_type": "stream",
          "text": [
            "--- Label : Road line ---\n"
          ],
          "name": "stdout"
        },
        {
          "output_type": "display_data",
          "data": {
            "image/png": "[encoded data removed]",
            "text/plain": [
              "<PIL.Image.Image image mode=L size=160x120 at 0x7FE633EE6390>"
            ]
          },
          "metadata": {
            "tags": []
          }
        },
        {
          "output_type": "stream",
          "text": [
            "--- Label : Road ---\n"
          ],
          "name": "stdout"
        },
        {
          "output_type": "display_data",
          "data": {
            "image/png": "[encoded data removed]",
            "text/plain": [
              "<PIL.Image.Image image mode=L size=160x120 at 0x7FE633EE6668>"
            ]
          },
          "metadata": {
            "tags": []
          }
        },
        {
          "output_type": "stream",
          "text": [
            "--- Label : Sidewalk ---\n"
          ],
          "name": "stdout"
        },
        {
          "output_type": "display_data",
          "data": {
            "image/png": "[encoded data removed]",
            "text/plain": [
              "<PIL.Image.Image image mode=L size=160x120 at 0x7FE633EE6400>"
            ]
          },
          "metadata": {
            "tags": []
          }
        },
        {
          "output_type": "stream",
          "text": [
            "--- Label : Vegetation ---\n"
          ],
          "name": "stdout"
        },
        {
          "output_type": "display_data",
          "data": {
            "image/png": "[encoded data removed]",
            "text/plain": [
              "<PIL.Image.Image image mode=L size=160x120 at 0x7FE633EE64E0>"
            ]
          },
          "metadata": {
            "tags": []
          }
        },
        {
          "output_type": "stream",
          "text": [
            "--- Label : Car ---\n"
          ],
          "name": "stdout"
        },
        {
          "output_type": "display_data",
          "data": {
            "image/png": "[encoded data removed]",
            "text/plain": [
              "<PIL.Image.Image image mode=L size=160x120 at 0x7FE633EE64A8>"
            ]
          },
          "metadata": {
            "tags": []
          }
        },
        {
          "output_type": "stream",
          "text": [
            "--- Label : Wall ---\n"
          ],
          "name": "stdout"
        },
        {
          "output_type": "display_data",
          "data": {
            "image/png": "[encoded data removed]",
            "text/plain": [
              "<PIL.Image.Image image mode=L size=160x120 at 0x7FE633EE6390>"
            ]
          },
          "metadata": {
            "tags": []
          }
        },
        {
          "output_type": "stream",
          "text": [
            "--- Label : Traffic sign ---\n"
          ],
          "name": "stdout"
        },
        {
          "output_type": "display_data",
          "data": {
            "image/png": "[encoded data removed]",
            "text/plain": [
              "<PIL.Image.Image image mode=L size=160x120 at 0x7FE633EE64A8>"
            ]
          },
          "metadata": {
            "tags": []
          }
        },
        {
          "output_type": "stream",
          "text": [
            "\n",
            "--- Image 3 ---\n"
          ],
          "name": "stdout"
        },
        {
          "output_type": "display_data",
          "data": {
            "image/png": "[encoded data removed]",
            "text/plain": [
              "<Figure size 432x288 with 1 Axes>"
            ]
          },
          "metadata": {
            "tags": []
          }
        },
        {
          "output_type": "stream",
          "text": [
            "--- Label : Unlabeled ---\n"
          ],
          "name": "stdout"
        },
        {
          "output_type": "display_data",
          "data": {
            "image/png": "[encoded data removed]",
            "text/plain": [
              "<PIL.Image.Image image mode=L size=160x120 at 0x7FE633E46F28>"
            ]
          },
          "metadata": {
            "tags": []
          }
        },
        {
          "output_type": "stream",
          "text": [
            "--- Label : Building ---\n"
          ],
          "name": "stdout"
        },
        {
          "output_type": "display_data",
          "data": {
            "image/png": "[encoded data removed]",
            "text/plain": [
              "<PIL.Image.Image image mode=L size=160x120 at 0x7FE633E52EB8>"
            ]
          },
          "metadata": {
            "tags": []
          }
        },
        {
          "output_type": "stream",
          "text": [
            "--- Label : Fence ---\n"
          ],
          "name": "stdout"
        },
        {
          "output_type": "display_data",
          "data": {
            "image/png": "[encoded data removed]",
            "text/plain": [
              "<PIL.Image.Image image mode=L size=160x120 at 0x7FE633E46F28>"
            ]
          },
          "metadata": {
            "tags": []
          }
        },
        {
          "output_type": "stream",
          "text": [
            "--- Label : Other ---\n"
          ],
          "name": "stdout"
        },
        {
          "output_type": "display_data",
          "data": {
            "image/png": "[encoded data removed]",
            "text/plain": [
              "<PIL.Image.Image image mode=L size=160x120 at 0x7FE633E52EB8>"
            ]
          },
          "metadata": {
            "tags": []
          }
        },
        {
          "output_type": "stream",
          "text": [
            "--- Label : Pedestrian ---\n"
          ],
          "name": "stdout"
        },
        {
          "output_type": "display_data",
          "data": {
            "image/png": "[encoded data removed]",
            "text/plain": [
              "<PIL.Image.Image image mode=L size=160x120 at 0x7FE633E46F28>"
            ]
          },
          "metadata": {
            "tags": []
          }
        },
        {
          "output_type": "stream",
          "text": [
            "--- Label : Pole ---\n"
          ],
          "name": "stdout"
        },
        {
          "output_type": "display_data",
          "data": {
            "image/png": "[encoded data removed]",
            "text/plain": [
              "<PIL.Image.Image image mode=L size=160x120 at 0x7FE633E52EB8>"
            ]
          },
          "metadata": {
            "tags": []
          }
        },
        {
          "output_type": "stream",
          "text": [
            "--- Label : Road line ---\n"
          ],
          "name": "stdout"
        },
        {
          "output_type": "display_data",
          "data": {
            "image/png": "[encoded data removed]",
            "text/plain": [
              "<PIL.Image.Image image mode=L size=160x120 at 0x7FE633E46F28>"
            ]
          },
          "metadata": {
            "tags": []
          }
        },
        {
          "output_type": "stream",
          "text": [
            "--- Label : Road ---\n"
          ],
          "name": "stdout"
        },
        {
          "output_type": "display_data",
          "data": {
            "image/png": "[encoded data removed]",
            "text/plain": [
              "<PIL.Image.Image image mode=L size=160x120 at 0x7FE633E52EB8>"
            ]
          },
          "metadata": {
            "tags": []
          }
        },
        {
          "output_type": "stream",
          "text": [
            "--- Label : Sidewalk ---\n"
          ],
          "name": "stdout"
        },
        {
          "output_type": "display_data",
          "data": {
            "image/png": "[encoded data removed]",
            "text/plain": [
              "<PIL.Image.Image image mode=L size=160x120 at 0x7FE633E46F28>"
            ]
          },
          "metadata": {
            "tags": []
          }
        },
        {
          "output_type": "stream",
          "text": [
            "--- Label : Vegetation ---\n"
          ],
          "name": "stdout"
        },
        {
          "output_type": "display_data",
          "data": {
            "image/png": "[encoded data removed]",
            "text/plain": [
              "<PIL.Image.Image image mode=L size=160x120 at 0x7FE633E52EB8>"
            ]
          },
          "metadata": {
            "tags": []
          }
        },
        {
          "output_type": "stream",
          "text": [
            "--- Label : Car ---\n"
          ],
          "name": "stdout"
        },
        {
          "output_type": "display_data",
          "data": {
            "image/png": "[encoded data removed]",
            "text/plain": [
              "<PIL.Image.Image image mode=L size=160x120 at 0x7FE633E46F28>"
            ]
          },
          "metadata": {
            "tags": []
          }
        },
        {
          "output_type": "stream",
          "text": [
            "--- Label : Wall ---\n"
          ],
          "name": "stdout"
        },
        {
          "output_type": "display_data",
          "data": {
            "image/png": "[encoded data removed]",
            "text/plain": [
              "<PIL.Image.Image image mode=L size=160x120 at 0x7FE633E52EB8>"
            ]
          },
          "metadata": {
            "tags": []
          }
        },
        {
          "output_type": "stream",
          "text": [
            "--- Label : Traffic sign ---\n"
          ],
          "name": "stdout"
        },
        {
          "output_type": "display_data",
          "data": {
            "image/png": "[encoded data removed]",
            "text/plain": [
              "<PIL.Image.Image image mode=L size=160x120 at 0x7FE633E46F28>"
            ]
          },
          "metadata": {
            "tags": []
          }
        },
        {
          "output_type": "stream",
          "text": [
            "\n",
            "--- Image 4 ---\n"
          ],
          "name": "stdout"
        },
        {
          "output_type": "display_data",
          "data": {
            "image/png": "[encoded data removed]",
            "text/plain": [
              "<Figure size 432x288 with 1 Axes>"
            ]
          },
          "metadata": {
            "tags": []
          }
        },
        {
          "output_type": "stream",
          "text": [
            "--- Label : Unlabeled ---\n"
          ],
          "name": "stdout"
        },
        {
          "output_type": "display_data",
          "data": {
            "image/png": "[encoded data removed]",
            "text/plain": [
              "<PIL.Image.Image image mode=L size=160x120 at 0x7FE633E27BE0>"
            ]
          },
          "metadata": {
            "tags": []
          }
        },
        {
          "output_type": "stream",
          "text": [
            "--- Label : Building ---\n"
          ],
          "name": "stdout"
        },
        {
          "output_type": "display_data",
          "data": {
            "image/png": "[encoded data removed]",
            "text/plain": [
              "<PIL.Image.Image image mode=L size=160x120 at 0x7FE633E27B70>"
            ]
          },
          "metadata": {
            "tags": []
          }
        },
        {
          "output_type": "stream",
          "text": [
            "--- Label : Fence ---\n"
          ],
          "name": "stdout"
        },
        {
          "output_type": "display_data",
          "data": {
            "image/png": "[encoded data removed]",
            "text/plain": [
              "<PIL.Image.Image image mode=L size=160x120 at 0x7FE633E15F98>"
            ]
          },
          "metadata": {
            "tags": []
          }
        },
        {
          "output_type": "stream",
          "text": [
            "--- Label : Other ---\n"
          ],
          "name": "stdout"
        },
        {
          "output_type": "display_data",
          "data": {
            "image/png": "[encoded data removed]",
            "text/plain": [
              "<PIL.Image.Image image mode=L size=160x120 at 0x7FE633E15F98>"
            ]
          },
          "metadata": {
            "tags": []
          }
        },
        {
          "output_type": "stream",
          "text": [
            "--- Label : Pedestrian ---\n"
          ],
          "name": "stdout"
        },
        {
          "output_type": "display_data",
          "data": {
            "image/png": "[encoded data removed]",
            "text/plain": [
              "<PIL.Image.Image image mode=L size=160x120 at 0x7FE633E15F98>"
            ]
          },
          "metadata": {
            "tags": []
          }
        },
        {
          "output_type": "stream",
          "text": [
            "--- Label : Pole ---\n"
          ],
          "name": "stdout"
        },
        {
          "output_type": "display_data",
          "data": {
            "image/png": "[encoded data removed]",
            "text/plain": [
              "<PIL.Image.Image image mode=L size=160x120 at 0x7FE633E15F98>"
            ]
          },
          "metadata": {
            "tags": []
          }
        },
        {
          "output_type": "stream",
          "text": [
            "--- Label : Road line ---\n"
          ],
          "name": "stdout"
        },
        {
          "output_type": "display_data",
          "data": {
            "image/png": "[encoded data removed]",
            "text/plain": [
              "<PIL.Image.Image image mode=L size=160x120 at 0x7FE633E15F98>"
            ]
          },
          "metadata": {
            "tags": []
          }
        },
        {
          "output_type": "stream",
          "text": [
            "--- Label : Road ---\n"
          ],
          "name": "stdout"
        },
        {
          "output_type": "display_data",
          "data": {
            "image/png": "[encoded data removed]",
            "text/plain": [
              "<PIL.Image.Image image mode=L size=160x120 at 0x7FE633E15F98>"
            ]
          },
          "metadata": {
            "tags": []
          }
        },
        {
          "output_type": "stream",
          "text": [
            "--- Label : Sidewalk ---\n"
          ],
          "name": "stdout"
        },
        {
          "output_type": "display_data",
          "data": {
            "image/png": "[encoded data removed]",
            "text/plain": [
              "<PIL.Image.Image image mode=L size=160x120 at 0x7FE633E15F98>"
            ]
          },
          "metadata": {
            "tags": []
          }
        },
        {
          "output_type": "stream",
          "text": [
            "--- Label : Vegetation ---\n"
          ],
          "name": "stdout"
        },
        {
          "output_type": "display_data",
          "data": {
            "image/png": "[encoded data removed]",
            "text/plain": [
              "<PIL.Image.Image image mode=L size=160x120 at 0x7FE633E15F98>"
            ]
          },
          "metadata": {
            "tags": []
          }
        },
        {
          "output_type": "stream",
          "text": [
            "--- Label : Car ---\n"
          ],
          "name": "stdout"
        },
        {
          "output_type": "display_data",
          "data": {
            "image/png": "[encoded data removed]",
            "text/plain": [
              "<PIL.Image.Image image mode=L size=160x120 at 0x7FE633E15F98>"
            ]
          },
          "metadata": {
            "tags": []
          }
        },
        {
          "output_type": "stream",
          "text": [
            "--- Label : Wall ---\n"
          ],
          "name": "stdout"
        },
        {
          "output_type": "display_data",
          "data": {
            "image/png": "[encoded data removed]",
            "text/plain": [
              "<PIL.Image.Image image mode=L size=160x120 at 0x7FE633E15F98>"
            ]
          },
          "metadata": {
            "tags": []
          }
        },
        {
          "output_type": "stream",
          "text": [
            "--- Label : Traffic sign ---\n"
          ],
          "name": "stdout"
        },
        {
          "output_type": "display_data",
          "data": {
            "image/png": "[encoded data removed]",
            "text/plain": [
              "<PIL.Image.Image image mode=L size=160x120 at 0x7FE633E15F98>"
            ]
          },
          "metadata": {
            "tags": []
          }
        }
      ]
    }
  ]
}